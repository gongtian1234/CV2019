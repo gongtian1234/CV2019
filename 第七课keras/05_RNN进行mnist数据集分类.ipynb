{
  "nbformat": 4,
  "nbformat_minor": 0,
  "metadata": {
    "colab": {
      "name": "05_RNN进行mnist数据集分类",
      "version": "0.3.2",
      "provenance": [],
      "collapsed_sections": []
    },
    "kernelspec": {
      "name": "python3",
      "display_name": "Python 3"
    },
    "accelerator": "GPU"
  },
  "cells": [
    {
      "cell_type": "markdown",
      "metadata": {
        "id": "jmMEbYQui_Hv",
        "colab_type": "text"
      },
      "source": [
        "#### 用RNN进行mnist数据集分类\n",
        "基本就是了解结构，图片强行用RNN训练，效果自然不好。"
      ]
    },
    {
      "cell_type": "code",
      "metadata": {
        "id": "b3bZpMGFhCmm",
        "colab_type": "code",
        "colab": {
          "base_uri": "https://localhost:8080/",
          "height": 34
        },
        "outputId": "26ccf6c7-4146-4e13-b218-9f3deda1fad0"
      },
      "source": [
        "from keras.datasets import mnist\n",
        "from keras.utils import np_utils\n",
        "from keras.models import Sequential\n",
        "from keras.layers import Dense\n",
        "from keras.layers.recurrent import SimpleRNN\n",
        "from keras.optimizers import Adam"
      ],
      "execution_count": 1,
      "outputs": [
        {
          "output_type": "stream",
          "text": [
            "Using TensorFlow backend.\n"
          ],
          "name": "stderr"
        }
      ]
    },
    {
      "cell_type": "code",
      "metadata": {
        "id": "ODO5zKuWhHY4",
        "colab_type": "code",
        "colab": {
          "base_uri": "https://localhost:8080/",
          "height": 530
        },
        "outputId": "241b34d1-3c77-4e7d-a10a-fda188f602ed"
      },
      "source": [
        "input_size = 28    # 数据长度：一行有28个数据\n",
        "time_steps = 28    # 序列长度：一共有28行\n",
        "cell_size = 50     # 隐藏层cell个数\n",
        "\n",
        "(x_train, y_train), (x_test, y_test) = mnist.load_data()\n",
        "\n",
        "x_train = x_train / 255.0\n",
        "x_test = x_test / 255.0\n",
        "y_train = np_utils.to_categorical(y_train, num_classes=10)\n",
        "y_test = np_utils.to_categorical(y_test, num_classes=10)\n",
        "\n",
        "model = Sequential()\n",
        "\n",
        "model.add(SimpleRNN(units=cell_size, input_shape=(time_steps, input_size)))\n",
        "model.add(Dense(10, activation='softmax'))\n",
        "\n",
        "adam = Adam(lr=1e-4)\n",
        "model.compile(optimizer=adam, loss='categorical_crossentropy', metrics=['accuracy'])\n",
        "\n",
        "model.fit(x_train, y_train, batch_size=64, epochs=10)\n",
        "loss, acc = model.evaluate(x_test, y_test)\n",
        "print('test loss is', loss, 'test accuracy is', acc)"
      ],
      "execution_count": 3,
      "outputs": [
        {
          "output_type": "stream",
          "text": [
            "WARNING:tensorflow:From /usr/local/lib/python3.6/dist-packages/keras/backend/tensorflow_backend.py:3576: The name tf.log is deprecated. Please use tf.math.log instead.\n",
            "\n",
            "WARNING:tensorflow:From /usr/local/lib/python3.6/dist-packages/tensorflow/python/ops/math_grad.py:1250: add_dispatch_support.<locals>.wrapper (from tensorflow.python.ops.array_ops) is deprecated and will be removed in a future version.\n",
            "Instructions for updating:\n",
            "Use tf.where in 2.0, which has the same broadcast rule as np.where\n",
            "WARNING:tensorflow:From /usr/local/lib/python3.6/dist-packages/keras/backend/tensorflow_backend.py:1033: The name tf.assign_add is deprecated. Please use tf.compat.v1.assign_add instead.\n",
            "\n",
            "Epoch 1/10\n",
            "60000/60000 [==============================] - 23s 388us/step - loss: 1.5180 - acc: 0.5174\n",
            "Epoch 2/10\n",
            "60000/60000 [==============================] - 22s 371us/step - loss: 0.8668 - acc: 0.7377\n",
            "Epoch 3/10\n",
            "60000/60000 [==============================] - 22s 373us/step - loss: 0.6655 - acc: 0.7961\n",
            "Epoch 4/10\n",
            "60000/60000 [==============================] - 22s 371us/step - loss: 0.5629 - acc: 0.8311\n",
            "Epoch 5/10\n",
            "60000/60000 [==============================] - 22s 369us/step - loss: 0.4955 - acc: 0.8542\n",
            "Epoch 6/10\n",
            "60000/60000 [==============================] - 22s 368us/step - loss: 0.4477 - acc: 0.8703\n",
            "Epoch 7/10\n",
            "60000/60000 [==============================] - 22s 370us/step - loss: 0.4102 - acc: 0.8813\n",
            "Epoch 8/10\n",
            "60000/60000 [==============================] - 22s 369us/step - loss: 0.3809 - acc: 0.8892\n",
            "Epoch 9/10\n",
            "60000/60000 [==============================] - 22s 365us/step - loss: 0.3578 - acc: 0.8967\n",
            "Epoch 10/10\n",
            "60000/60000 [==============================] - 22s 367us/step - loss: 0.3374 - acc: 0.9025\n",
            "10000/10000 [==============================] - 4s 448us/step\n",
            "test loss is 0.3138951498508453 test accuracy is 0.9055\n"
          ],
          "name": "stdout"
        }
      ]
    }
  ]
}