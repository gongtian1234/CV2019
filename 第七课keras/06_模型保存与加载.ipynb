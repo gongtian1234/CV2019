{
  "nbformat": 4,
  "nbformat_minor": 0,
  "metadata": {
    "colab": {
      "name": "06_模型保存与加载.ipynb",
      "version": "0.3.2",
      "provenance": [],
      "collapsed_sections": []
    },
    "kernelspec": {
      "name": "python3",
      "display_name": "Python 3"
    },
    "accelerator": "GPU"
  },
  "cells": [
    {
      "cell_type": "markdown",
      "metadata": {
        "id": "cAiL6YcgpP8o",
        "colab_type": "text"
      },
      "source": [
        "#### 目录\n",
        "1. 方法一 模型保存与加载  \n",
        "2. 方法二 保存与载入参数，保存与载入模型结构"
      ]
    },
    {
      "cell_type": "markdown",
      "metadata": {
        "id": "EQagdt2jpHpb",
        "colab_type": "text"
      },
      "source": [
        "##### 方法一 模型保存与加载\n",
        "\n",
        "    model.save()\n",
        "    from keras.models import load_model\n",
        "    model = load_model()"
      ]
    },
    {
      "cell_type": "code",
      "metadata": {
        "id": "RpET57TGm3_2",
        "colab_type": "code",
        "colab": {
          "base_uri": "https://localhost:8080/",
          "height": 34
        },
        "outputId": "284dc2f1-f22e-423a-c3d4-22bf20f86e25"
      },
      "source": [
        "from keras.datasets import mnist\n",
        "from keras.utils import np_utils\n",
        "from keras.models import Sequential\n",
        "from keras.layers import Dense, Conv2D, MaxPool2D, Flatten\n",
        "from keras.optimizers import Adam"
      ],
      "execution_count": 1,
      "outputs": [
        {
          "output_type": "stream",
          "text": [
            "Using TensorFlow backend.\n"
          ],
          "name": "stderr"
        }
      ]
    },
    {
      "cell_type": "code",
      "metadata": {
        "id": "VC9m-eU1m-Fd",
        "colab_type": "code",
        "colab": {
          "base_uri": "https://localhost:8080/",
          "height": 700
        },
        "outputId": "7206b092-2788-41e7-bdb2-30412f0d2432"
      },
      "source": [
        "(x_train, y_train), (x_test, y_test) = mnist.load_data()\n",
        "\n",
        "x_train = x_train.reshape((-1, 28,28,1)) / 255.0\n",
        "x_test = x_test.reshape((-1,28,28,1)) / 255.0\n",
        "y_train = np_utils.to_categorical(y_train, num_classes=10)\n",
        "y_test = np_utils.to_categorical(y_test, num_classes=10)\n",
        "\n",
        "model = Sequential()\n",
        "model.add(Conv2D(input_shape=(28,28,1), filters=32, kernel_size=5, padding='same', activation='relu', name='conv_1'))\n",
        "model.add(MaxPool2D(strides=2, name='maxpool_1'))\n",
        "model.add(Conv2D(filters=64, kernel_size=5, padding='same', activation='relu', name='conv_2'))\n",
        "model.add(MaxPool2D(strides=2, name='maxpool_2'))\n",
        "model.add(Flatten())\n",
        "model.add(Dense(units=1024, activation='relu', name='fc_1'))\n",
        "model.add(Dense(units=10, activation='softmax', name='output_0'))\n",
        "\n",
        "adam = Adam(lr=1e-4)\n",
        "model.compile(optimizer=adam, loss='categorical_crossentropy', metrics=['accuracy'])\n",
        "\n",
        "model.fit(x_train, y_train, batch_size=64, epochs=10)\n",
        "loss, acc = model.evaluate(x_test, y_test)\n",
        "print('test loss is', loss, 'test accuracy is', acc)\n",
        "model.save('cnn_mnist_model1.h5')"
      ],
      "execution_count": 2,
      "outputs": [
        {
          "output_type": "stream",
          "text": [
            "WARNING:tensorflow:From /usr/local/lib/python3.6/dist-packages/keras/backend/tensorflow_backend.py:66: The name tf.get_default_graph is deprecated. Please use tf.compat.v1.get_default_graph instead.\n",
            "\n",
            "WARNING:tensorflow:From /usr/local/lib/python3.6/dist-packages/keras/backend/tensorflow_backend.py:541: The name tf.placeholder is deprecated. Please use tf.compat.v1.placeholder instead.\n",
            "\n",
            "WARNING:tensorflow:From /usr/local/lib/python3.6/dist-packages/keras/backend/tensorflow_backend.py:4432: The name tf.random_uniform is deprecated. Please use tf.random.uniform instead.\n",
            "\n",
            "WARNING:tensorflow:From /usr/local/lib/python3.6/dist-packages/keras/backend/tensorflow_backend.py:4267: The name tf.nn.max_pool is deprecated. Please use tf.nn.max_pool2d instead.\n",
            "\n",
            "WARNING:tensorflow:From /usr/local/lib/python3.6/dist-packages/keras/optimizers.py:793: The name tf.train.Optimizer is deprecated. Please use tf.compat.v1.train.Optimizer instead.\n",
            "\n",
            "WARNING:tensorflow:From /usr/local/lib/python3.6/dist-packages/keras/backend/tensorflow_backend.py:3576: The name tf.log is deprecated. Please use tf.math.log instead.\n",
            "\n",
            "WARNING:tensorflow:From /usr/local/lib/python3.6/dist-packages/tensorflow/python/ops/math_grad.py:1250: add_dispatch_support.<locals>.wrapper (from tensorflow.python.ops.array_ops) is deprecated and will be removed in a future version.\n",
            "Instructions for updating:\n",
            "Use tf.where in 2.0, which has the same broadcast rule as np.where\n",
            "WARNING:tensorflow:From /usr/local/lib/python3.6/dist-packages/keras/backend/tensorflow_backend.py:1033: The name tf.assign_add is deprecated. Please use tf.compat.v1.assign_add instead.\n",
            "\n",
            "Epoch 1/10\n",
            "60000/60000 [==============================] - 14s 240us/step - loss: 0.2804 - acc: 0.9235\n",
            "Epoch 2/10\n",
            "60000/60000 [==============================] - 13s 210us/step - loss: 0.0751 - acc: 0.9772\n",
            "Epoch 3/10\n",
            "60000/60000 [==============================] - 13s 214us/step - loss: 0.0517 - acc: 0.9840\n",
            "Epoch 4/10\n",
            "60000/60000 [==============================] - 13s 216us/step - loss: 0.0407 - acc: 0.9872\n",
            "Epoch 5/10\n",
            "60000/60000 [==============================] - 13s 212us/step - loss: 0.0326 - acc: 0.9897\n",
            "Epoch 6/10\n",
            "60000/60000 [==============================] - 13s 211us/step - loss: 0.0271 - acc: 0.9918\n",
            "Epoch 7/10\n",
            "60000/60000 [==============================] - 13s 211us/step - loss: 0.0226 - acc: 0.9931\n",
            "Epoch 8/10\n",
            "60000/60000 [==============================] - 13s 210us/step - loss: 0.0191 - acc: 0.9939\n",
            "Epoch 9/10\n",
            "60000/60000 [==============================] - 13s 212us/step - loss: 0.0145 - acc: 0.9955\n",
            "Epoch 10/10\n",
            "60000/60000 [==============================] - 13s 211us/step - loss: 0.0131 - acc: 0.9958\n",
            "10000/10000 [==============================] - 1s 99us/step\n",
            "test loss is 0.024656166142896837 test accuracy is 0.9923\n"
          ],
          "name": "stdout"
        }
      ]
    },
    {
      "cell_type": "code",
      "metadata": {
        "id": "Ey4HdnTenAqe",
        "colab_type": "code",
        "colab": {
          "base_uri": "https://localhost:8080/",
          "height": 51
        },
        "outputId": "58d54772-802a-4bb4-bc66-f467dde5f792"
      },
      "source": [
        "# 模型加载\n",
        "from keras.models import load_model\n",
        "model = load_model('cnn_mnist_model1.h5')\n",
        "loss, acc = model.evaluate(x_test, y_test)\n",
        "print('test loss is', loss, 'test accuracy is', acc)"
      ],
      "execution_count": 3,
      "outputs": [
        {
          "output_type": "stream",
          "text": [
            "10000/10000 [==============================] - 1s 104us/step\n",
            "test loss is 0.024656166142896837 test accuracy is 0.9923\n"
          ],
          "name": "stdout"
        }
      ]
    },
    {
      "cell_type": "markdown",
      "metadata": {
        "id": "YeEihieRqcOE",
        "colab_type": "text"
      },
      "source": [
        "##### 方法二 保存与载入参数，保存与载入模型结构"
      ]
    },
    {
      "cell_type": "code",
      "metadata": {
        "id": "OdtZpLFfpu3r",
        "colab_type": "code",
        "colab": {}
      },
      "source": [
        "# 保存参数，载入参数\n",
        "model.save_weights('cnn_model_weights.h5')\n",
        "model.load_weights('cnn_model_weights.h5')\n",
        "\n",
        "# 保存网络结构，载入网络结构\n",
        "from keras.models import model_from_json\n",
        "json_string = model.to_json()\n",
        "model = model_from_json(json_string)"
      ],
      "execution_count": 0,
      "outputs": []
    },
    {
      "cell_type": "code",
      "metadata": {
        "id": "C46l5Z40q0AH",
        "colab_type": "code",
        "colab": {}
      },
      "source": [
        ""
      ],
      "execution_count": 0,
      "outputs": []
    }
  ]
}