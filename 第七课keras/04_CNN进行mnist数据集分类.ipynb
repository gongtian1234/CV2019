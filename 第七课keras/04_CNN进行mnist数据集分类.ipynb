{
 "cells": [
  {
   "cell_type": "markdown",
   "metadata": {
    "colab_type": "text",
    "id": "XCBm8cSSX1fJ"
   },
   "source": [
    "#### 用CNN对mnist数据集进行训练分类"
   ]
  },
  {
   "cell_type": "code",
   "execution_count": 1,
   "metadata": {
    "colab": {
     "base_uri": "https://localhost:8080/",
     "height": 34
    },
    "colab_type": "code",
    "id": "2hHq2QCrWDNR",
    "outputId": "23dac705-8727-40f2-de1a-cb2144d470ff"
   },
   "outputs": [
    {
     "name": "stderr",
     "output_type": "stream",
     "text": [
      "Using TensorFlow backend.\n"
     ]
    }
   ],
   "source": [
    "from keras.datasets import mnist\n",
    "from keras.utils import np_utils\n",
    "from keras.models import Sequential\n",
    "from keras.layers import Dense, Conv2D, MaxPool2D, Flatten\n",
    "from keras.optimizers import SGD, Adam"
   ]
  },
  {
   "cell_type": "code",
   "execution_count": 2,
   "metadata": {
    "colab": {
     "base_uri": "https://localhost:8080/",
     "height": 700
    },
    "colab_type": "code",
    "id": "xADvmi4IWKtn",
    "outputId": "f0679cc6-1763-468f-cc6f-5dd4fc1db9b4"
   },
   "outputs": [
    {
     "name": "stdout",
     "output_type": "stream",
     "text": [
      "WARNING:tensorflow:From /usr/local/lib/python3.6/dist-packages/keras/backend/tensorflow_backend.py:66: The name tf.get_default_graph is deprecated. Please use tf.compat.v1.get_default_graph instead.\n",
      "\n",
      "WARNING:tensorflow:From /usr/local/lib/python3.6/dist-packages/keras/backend/tensorflow_backend.py:541: The name tf.placeholder is deprecated. Please use tf.compat.v1.placeholder instead.\n",
      "\n",
      "WARNING:tensorflow:From /usr/local/lib/python3.6/dist-packages/keras/backend/tensorflow_backend.py:4432: The name tf.random_uniform is deprecated. Please use tf.random.uniform instead.\n",
      "\n",
      "WARNING:tensorflow:From /usr/local/lib/python3.6/dist-packages/keras/backend/tensorflow_backend.py:4267: The name tf.nn.max_pool is deprecated. Please use tf.nn.max_pool2d instead.\n",
      "\n",
      "WARNING:tensorflow:From /usr/local/lib/python3.6/dist-packages/keras/optimizers.py:793: The name tf.train.Optimizer is deprecated. Please use tf.compat.v1.train.Optimizer instead.\n",
      "\n",
      "WARNING:tensorflow:From /usr/local/lib/python3.6/dist-packages/keras/backend/tensorflow_backend.py:3576: The name tf.log is deprecated. Please use tf.math.log instead.\n",
      "\n",
      "WARNING:tensorflow:From /usr/local/lib/python3.6/dist-packages/tensorflow/python/ops/math_grad.py:1250: add_dispatch_support.<locals>.wrapper (from tensorflow.python.ops.array_ops) is deprecated and will be removed in a future version.\n",
      "Instructions for updating:\n",
      "Use tf.where in 2.0, which has the same broadcast rule as np.where\n",
      "WARNING:tensorflow:From /usr/local/lib/python3.6/dist-packages/keras/backend/tensorflow_backend.py:1033: The name tf.assign_add is deprecated. Please use tf.compat.v1.assign_add instead.\n",
      "\n",
      "Epoch 1/10\n",
      "60000/60000 [==============================] - 14s 233us/step - loss: 0.1105 - acc: 0.9669\n",
      "Epoch 2/10\n",
      "60000/60000 [==============================] - 12s 206us/step - loss: 0.0366 - acc: 0.9886\n",
      "Epoch 3/10\n",
      "60000/60000 [==============================] - 12s 204us/step - loss: 0.0243 - acc: 0.9920\n",
      "Epoch 4/10\n",
      "60000/60000 [==============================] - 12s 206us/step - loss: 0.0171 - acc: 0.9942\n",
      "Epoch 5/10\n",
      "60000/60000 [==============================] - 12s 205us/step - loss: 0.0134 - acc: 0.9956\n",
      "Epoch 6/10\n",
      "60000/60000 [==============================] - 12s 205us/step - loss: 0.0123 - acc: 0.9959\n",
      "Epoch 7/10\n",
      "60000/60000 [==============================] - 12s 206us/step - loss: 0.0095 - acc: 0.9970\n",
      "Epoch 8/10\n",
      "60000/60000 [==============================] - 12s 204us/step - loss: 0.0070 - acc: 0.9977\n",
      "Epoch 9/10\n",
      "60000/60000 [==============================] - 12s 204us/step - loss: 0.0085 - acc: 0.9973\n",
      "Epoch 10/10\n",
      "60000/60000 [==============================] - 12s 205us/step - loss: 0.0059 - acc: 0.9981\n",
      "10000/10000 [==============================] - 1s 96us/step\n",
      "test loss is 0.04754588526628299 test accuracy is 0.9897\n"
     ]
    }
   ],
   "source": [
    "(x_train, y_train), (x_test, y_test) = mnist.load_data()\n",
    "\n",
    "# x_train, x_test: 60000,28,28 ===> 60000,28,28,1\n",
    "x_train = x_train.reshape((-1,28,28,1)) / 255.0\n",
    "x_test = x_test.reshape((-1,28,28,1)) / 255.0\n",
    "# y_train = np_utils.to_categorical(y_train) 【错误：没有写one-hot的类别】\n",
    "y_train = np_utils.to_categorical(y_train, num_classes=10)\n",
    "y_test = np_utils.to_categorical(y_test, num_classes=10)\n",
    "\n",
    "model = Sequential()\n",
    "model.add(Conv2D(input_shape=(28,28,1), filters=32, kernel_size=5, strides=(1,1), padding='same', activation='relu', name='conv_1'))\n",
    "model.add(MaxPool2D(pool_size=(2,2), strides=2, name='maxpool_1'))\n",
    "model.add(Conv2D(filters=64, kernel_size=5, strides=(1,1), padding='same', activation='relu', name='conv_2'))\n",
    "model.add(MaxPool2D(pool_size=(2,2), strides=2, name='maxpool_2'))\n",
    "model.add(Flatten())\n",
    "model.add(Dense(units=1024, activation='relu', name='fc_1'))\n",
    "model.add(Dense(units=10, activation='softmax', name='output_0'))\n",
    "\n",
    "adam = Adam()\n",
    "model.compile(optimizer=adam, loss='categorical_crossentropy', metrics=['accuracy'])\n",
    "\n",
    "model.fit(x_train, y_train, epochs=10, batch_size=64)\n",
    "\n",
    "loss, acc = model.evaluate(x_test, y_test)\n",
    "print('test loss is', loss, 'test accuracy is', acc)"
   ]
  },
  {
   "cell_type": "markdown",
   "metadata": {
    "colab_type": "text",
    "id": "3UCoI6gRZvI7"
   },
   "source": [
    "#### 利用训练好的模型进行预测"
   ]
  },
  {
   "cell_type": "code",
   "execution_count": 3,
   "metadata": {
    "colab": {
     "base_uri": "https://localhost:8080/",
     "height": 282
    },
    "colab_type": "code",
    "id": "TC5VtF1eWNC5",
    "outputId": "440a81e0-ee1a-4869-b1c2-a92bea8aca25"
   },
   "outputs": [
    {
     "data": {
      "image/png": "[encoded data removed]",
      "text/plain": [
       "<Figure size 432x288 with 1 Axes>"
      ]
     },
     "metadata": {
      "tags": []
     },
     "output_type": "display_data"
    },
    {
     "name": "stdout",
     "output_type": "stream",
     "text": [
      "[9]\n"
     ]
    }
   ],
   "source": [
    "n = 1000\n",
    "\n",
    "import matplotlib.pyplot as plt\n",
    "plt.imshow(x_test[n].reshape(28,28))\n",
    "plt.axis('off')\n",
    "plt.show()\n",
    "\n",
    "test = x_test[n].reshape((-1,28,28,1))\n",
    "y = model.predict_classes(test)\n",
    "print(y)"
   ]
  },
  {
   "cell_type": "code",
   "execution_count": 0,
   "metadata": {
    "colab": {},
    "colab_type": "code",
    "id": "lOf9eAN1Yf-C"
   },
   "outputs": [],
   "source": []
  }
 ],
 "metadata": {
  "accelerator": "GPU",
  "colab": {
   "name": "04_CNN进行mnist数据集分类.ipynb",
   "provenance": [],
   "version": "0.3.2"
  },
  "kernelspec": {
   "display_name": "Python 3",
   "language": "python",
   "name": "python3"
  },
  "language_info": {
   "codemirror_mode": {
    "name": "ipython",
    "version": 3
   },
   "file_extension": ".py",
   "mimetype": "text/x-python",
   "name": "python",
   "nbconvert_exporter": "python",
   "pygments_lexer": "ipython3",
   "version": "3.6.4"
  },
  "toc": {
   "base_numbering": 1,
   "nav_menu": {},
   "number_sections": true,
   "sideBar": true,
   "skip_h1_title": false,
   "title_cell": "Table of Contents",
   "title_sidebar": "Contents",
   "toc_cell": false,
   "toc_position": {},
   "toc_section_display": true,
   "toc_window_display": false
  },
  "varInspector": {
   "cols": {
    "lenName": 16,
    "lenType": 16,
    "lenVar": 40
   },
   "kernels_config": {
    "python": {
     "delete_cmd_postfix": "",
     "delete_cmd_prefix": "del ",
     "library": "var_list.py",
     "varRefreshCmd": "print(var_dic_list())"
    },
    "r": {
     "delete_cmd_postfix": ") ",
     "delete_cmd_prefix": "rm(",
     "library": "var_list.r",
     "varRefreshCmd": "cat(var_dic_list()) "
    }
   },
   "types_to_exclude": [
    "module",
    "function",
    "builtin_function_or_method",
    "instance",
    "_Feature"
   ],
   "window_display": false
  }
 },
 "nbformat": 4,
 "nbformat_minor": 1
}
