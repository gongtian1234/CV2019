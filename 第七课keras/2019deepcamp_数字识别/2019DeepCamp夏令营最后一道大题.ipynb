{
 "cells": [
  {
   "cell_type": "code",
   "execution_count": 1,
   "metadata": {
    "ExecuteTime": {
     "end_time": "2019-09-18T11:56:42.998639Z",
     "start_time": "2019-09-18T11:56:39.422912Z"
    }
   },
   "outputs": [
    {
     "name": "stderr",
     "output_type": "stream",
     "text": [
      "Using TensorFlow backend.\n"
     ]
    }
   ],
   "source": [
    "import cv2\n",
    "import matplotlib.pyplot as plt\n",
    "from keras.datasets import mnist\n",
    "from keras.models import load_model"
   ]
  },
  {
   "cell_type": "code",
   "execution_count": 2,
   "metadata": {
    "ExecuteTime": {
     "end_time": "2019-09-18T11:56:44.925198Z",
     "start_time": "2019-09-18T11:56:44.630358Z"
    }
   },
   "outputs": [],
   "source": [
    "img = cv2.imread('test.bmp')\n",
    "img = cv2.cvtColor(img, cv2.COLOR_BGR2GRAY)"
   ]
  },
  {
   "cell_type": "code",
   "execution_count": 3,
   "metadata": {
    "ExecuteTime": {
     "end_time": "2019-09-18T11:56:51.168783Z",
     "start_time": "2019-09-18T11:56:50.401195Z"
    }
   },
   "outputs": [
    {
     "data": {
      "image/png": "[encoded data removed]",
      "text/plain": [
       "<Figure size 432x288 with 1 Axes>"
      ]
     },
     "metadata": {
      "needs_background": "light"
     },
     "output_type": "display_data"
    },
    {
     "data": {
      "image/png": "[encoded data removed]",
      "text/plain": [
       "<Figure size 432x288 with 1 Axes>"
      ]
     },
     "metadata": {
      "needs_background": "light"
     },
     "output_type": "display_data"
    },
    {
     "data": {
      "image/png": "[encoded data removed]",
      "text/plain": [
       "<Figure size 432x288 with 1 Axes>"
      ]
     },
     "metadata": {
      "needs_background": "light"
     },
     "output_type": "display_data"
    }
   ],
   "source": [
    "# 做一个测试，分割图片，发现每个数字是28*28\n",
    "for i in range(3):\n",
    "    plt.imshow(img[28*i:28*(i+1),28*i:28*(i+1)])\n",
    "    plt.show()"
   ]
  },
  {
   "cell_type": "code",
   "execution_count": 4,
   "metadata": {
    "ExecuteTime": {
     "end_time": "2019-09-18T11:56:58.081163Z",
     "start_time": "2019-09-18T11:56:58.077161Z"
    }
   },
   "outputs": [],
   "source": [
    "# 对比mnist数据集的数据的大小\n",
    "# (x_train, y_train), (x_test, y_test) = mnist.load_data()\n",
    "# print(x_train.shape)    # (60000, 28, 28)\n",
    "# print(y_train.shape)    # (60000,)\n",
    "# x_train[1].shape    # 28*28"
   ]
  },
  {
   "cell_type": "code",
   "execution_count": 5,
   "metadata": {
    "ExecuteTime": {
     "end_time": "2019-09-18T11:57:35.502029Z",
     "start_time": "2019-09-18T11:56:59.289621Z"
    }
   },
   "outputs": [],
   "source": [
    "lst = []\n",
    "model = load_model('cnn_mnist_model1.h5')\n",
    "\n",
    "# for row in range(1):     # (3360, 2240)\n",
    "for row in range(int(img.shape[0]/28)):     # (3360, 2240)\n",
    "    for col in range(int(img.shape[1]/28)):\n",
    "        image = img[28*row:28*(row+1), 28*col:28*(col+1)]\n",
    "        image = image.reshape((-1,28,28,1)) / 255\n",
    "        \n",
    "        rst = model.predict_classes(image)\n",
    "#         print(rst, end=' ')\n",
    "        lst.append(int(rst))"
   ]
  },
  {
   "cell_type": "code",
   "execution_count": 6,
   "metadata": {
    "ExecuteTime": {
     "end_time": "2019-09-18T11:57:41.323455Z",
     "start_time": "2019-09-18T11:57:41.317433Z"
    }
   },
   "outputs": [
    {
     "data": {
      "text/plain": [
       "41969"
      ]
     },
     "execution_count": 6,
     "metadata": {},
     "output_type": "execute_result"
    }
   ],
   "source": [
    "sum(lst)"
   ]
  },
  {
   "cell_type": "code",
   "execution_count": null,
   "metadata": {},
   "outputs": [],
   "source": []
  }
 ],
 "metadata": {
  "kernelspec": {
   "display_name": "Python 3",
   "language": "python",
   "name": "python3"
  },
  "language_info": {
   "codemirror_mode": {
    "name": "ipython",
    "version": 3
   },
   "file_extension": ".py",
   "mimetype": "text/x-python",
   "name": "python",
   "nbconvert_exporter": "python",
   "pygments_lexer": "ipython3",
   "version": "3.6.4"
  },
  "toc": {
   "base_numbering": 1,
   "nav_menu": {},
   "number_sections": true,
   "sideBar": true,
   "skip_h1_title": false,
   "title_cell": "Table of Contents",
   "title_sidebar": "Contents",
   "toc_cell": false,
   "toc_position": {},
   "toc_section_display": true,
   "toc_window_display": false
  },
  "varInspector": {
   "cols": {
    "lenName": 16,
    "lenType": 16,
    "lenVar": 40
   },
   "kernels_config": {
    "python": {
     "delete_cmd_postfix": "",
     "delete_cmd_prefix": "del ",
     "library": "var_list.py",
     "varRefreshCmd": "print(var_dic_list())"
    },
    "r": {
     "delete_cmd_postfix": ") ",
     "delete_cmd_prefix": "rm(",
     "library": "var_list.r",
     "varRefreshCmd": "cat(var_dic_list()) "
    }
   },
   "types_to_exclude": [
    "module",
    "function",
    "builtin_function_or_method",
    "instance",
    "_Feature"
   ],
   "window_display": false
  }
 },
 "nbformat": 4,
 "nbformat_minor": 2
}
