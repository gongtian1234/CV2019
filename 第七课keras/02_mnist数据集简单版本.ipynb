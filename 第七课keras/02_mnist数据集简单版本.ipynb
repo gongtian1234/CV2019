{
 "cells": [
  {
   "cell_type": "markdown",
   "metadata": {},
   "source": [
    "#### 主要内容\n",
    "用keras建立了784*10的神经网络进行mnist数据集的简单训练。"
   ]
  },
  {
   "cell_type": "markdown",
   "metadata": {},
   "source": [
    "#### 用keras进行mnist数据及分析"
   ]
  },
  {
   "cell_type": "code",
   "execution_count": 1,
   "metadata": {
    "ExecuteTime": {
     "end_time": "2019-09-10T08:58:01.820499Z",
     "start_time": "2019-09-10T08:57:58.093749Z"
    }
   },
   "outputs": [
    {
     "name": "stderr",
     "output_type": "stream",
     "text": [
      "Using TensorFlow backend.\n"
     ]
    }
   ],
   "source": [
    "import numpy as np\n",
    "import matplotlib.pyplot as plt\n",
    "import keras\n",
    "from keras.layers import Dense\n",
    "from keras.datasets import mnist\n",
    "from keras.optimizers import SGD\n",
    "from keras.models import Sequential\n",
    "from keras.utils import np_utils"
   ]
  },
  {
   "cell_type": "code",
   "execution_count": 2,
   "metadata": {
    "ExecuteTime": {
     "end_time": "2019-09-10T08:59:12.823861Z",
     "start_time": "2019-09-10T08:58:01.823461Z"
    }
   },
   "outputs": [
    {
     "name": "stdout",
     "output_type": "stream",
     "text": [
      "(60000, 28, 28)\n"
     ]
    },
    {
     "data": {
      "image/png": "[encoded data removed]",
      "text/plain": [
       "<Figure size 432x288 with 1 Axes>"
      ]
     },
     "metadata": {
      "needs_background": "light"
     },
     "output_type": "display_data"
    },
    {
     "name": "stdout",
     "output_type": "stream",
     "text": [
      "Epoch 1/30\n",
      "60000/60000 [==============================] - 3s 48us/step - loss: 0.0315 - acc: 0.8168\n",
      "Epoch 2/30\n",
      "60000/60000 [==============================] - 2s 36us/step - loss: 0.0183 - acc: 0.8901\n",
      "Epoch 3/30\n",
      "60000/60000 [==============================] - 2s 36us/step - loss: 0.0163 - acc: 0.9003\n",
      "Epoch 4/30\n",
      "60000/60000 [==============================] - 2s 36us/step - loss: 0.0152 - acc: 0.9059\n",
      "Epoch 5/30\n",
      "60000/60000 [==============================] - 2s 36us/step - loss: 0.0146 - acc: 0.9092\n",
      "Epoch 6/30\n",
      "60000/60000 [==============================] - 2s 38us/step - loss: 0.0141 - acc: 0.9116\n",
      "Epoch 7/30\n",
      "60000/60000 [==============================] - 2s 39us/step - loss: 0.0137 - acc: 0.9140\n",
      "Epoch 8/30\n",
      "60000/60000 [==============================] - 2s 42us/step - loss: 0.0134 - acc: 0.9158\n",
      "Epoch 9/30\n",
      "60000/60000 [==============================] - 2s 37us/step - loss: 0.0132 - acc: 0.9168\n",
      "Epoch 10/30\n",
      "60000/60000 [==============================] - 2s 37us/step - loss: 0.0130 - acc: 0.9182\n",
      "Epoch 11/30\n",
      "60000/60000 [==============================] - 2s 36us/step - loss: 0.0128 - acc: 0.9189\n",
      "Epoch 12/30\n",
      "60000/60000 [==============================] - 2s 35us/step - loss: 0.0127 - acc: 0.9204\n",
      "Epoch 13/30\n",
      "60000/60000 [==============================] - 2s 35us/step - loss: 0.0125 - acc: 0.9209\n",
      "Epoch 14/30\n",
      "60000/60000 [==============================] - 2s 37us/step - loss: 0.0124 - acc: 0.9218\n",
      "Epoch 15/30\n",
      "60000/60000 [==============================] - 2s 37us/step - loss: 0.0123 - acc: 0.9223\n",
      "Epoch 16/30\n",
      "60000/60000 [==============================] - 2s 37us/step - loss: 0.0122 - acc: 0.9230\n",
      "Epoch 17/30\n",
      "60000/60000 [==============================] - 2s 37us/step - loss: 0.0121 - acc: 0.9237\n",
      "Epoch 18/30\n",
      "60000/60000 [==============================] - 2s 37us/step - loss: 0.0120 - acc: 0.9242\n",
      "Epoch 19/30\n",
      "60000/60000 [==============================] - 2s 38us/step - loss: 0.0119 - acc: 0.9251\n",
      "Epoch 20/30\n",
      "60000/60000 [==============================] - 2s 38us/step - loss: 0.0119 - acc: 0.9257\n",
      "Epoch 21/30\n",
      "60000/60000 [==============================] - 2s 37us/step - loss: 0.0118 - acc: 0.9260\n",
      "Epoch 22/30\n",
      "60000/60000 [==============================] - 2s 37us/step - loss: 0.0117 - acc: 0.9267\n",
      "Epoch 23/30\n",
      "60000/60000 [==============================] - 2s 38us/step - loss: 0.0117 - acc: 0.9271\n",
      "Epoch 24/30\n",
      "60000/60000 [==============================] - 2s 39us/step - loss: 0.0116 - acc: 0.9271\n",
      "Epoch 25/30\n",
      "60000/60000 [==============================] - 2s 38us/step - loss: 0.0116 - acc: 0.9277\n",
      "Epoch 26/30\n",
      "60000/60000 [==============================] - 2s 38us/step - loss: 0.0115 - acc: 0.9280\n",
      "Epoch 27/30\n",
      "60000/60000 [==============================] - 3s 47us/step - loss: 0.0115 - acc: 0.9280\n",
      "Epoch 28/30\n",
      "60000/60000 [==============================] - 3s 49us/step - loss: 0.0114 - acc: 0.9287\n",
      "Epoch 29/30\n",
      "60000/60000 [==============================] - 3s 43us/step - loss: 0.0114 - acc: 0.9290\n",
      "Epoch 30/30\n",
      "60000/60000 [==============================] - 3s 42us/step - loss: 0.0113 - acc: 0.9296\n",
      "10000/10000 [==============================] - 0s 23us/step\n",
      "loss 0.011352931832068133\n",
      "accuracy 0.9277\n"
     ]
    }
   ],
   "source": [
    "(x_train, y_train), (x_test, y_test) = mnist.load_data()\n",
    "\n",
    "print(x_train.shape)\n",
    "\n",
    "n = 99\n",
    "target_name = ['0', '1', '2', '3', '4', '5', '6', '7', '8', '9']\n",
    "plt.imshow(x_train[n])\n",
    "# print(y_train[n])\n",
    "plt.title(target_name[y_train[n]])\n",
    "plt.axis('off')\n",
    "plt.show()\n",
    "\n",
    "x_train = x_train.reshape(x_train.shape[0], -1)/255.0\n",
    "x_test = x_test.reshape(x_test.shape[0], -1)/255.0\n",
    "# 把标签值转换为one-hot编码\n",
    "y_train = np_utils.to_categorical(y_train, num_classes=10)\n",
    "y_test = np_utils.to_categorical(y_test, num_classes=10)\n",
    "\n",
    "# 784 ---> 10\n",
    "model = Sequential()\n",
    "model.add(Dense(units=10, input_dim=784, activation='softmax'))\n",
    "sgd = SGD(lr=0.3)\n",
    "model.compile(optimizer=sgd, loss='mse',metrics=['accuracy'])    # 有问题，这mse不大合适吧\n",
    "\n",
    "# 训练模型\n",
    "model.fit(x_train, y_train, epochs=30)\n",
    "\n",
    "# 评估模型\n",
    "loss, accuracy = model.evaluate(x_test, y_test)\n",
    "\n",
    "print('loss', loss)\n",
    "print('accuracy', accuracy)"
   ]
  },
  {
   "cell_type": "code",
   "execution_count": null,
   "metadata": {},
   "outputs": [],
   "source": []
  }
 ],
 "metadata": {
  "kernelspec": {
   "display_name": "Python 3",
   "language": "python",
   "name": "python3"
  },
  "language_info": {
   "codemirror_mode": {
    "name": "ipython",
    "version": 3
   },
   "file_extension": ".py",
   "mimetype": "text/x-python",
   "name": "python",
   "nbconvert_exporter": "python",
   "pygments_lexer": "ipython3",
   "version": "3.6.4"
  },
  "toc": {
   "base_numbering": 1,
   "nav_menu": {},
   "number_sections": true,
   "sideBar": true,
   "skip_h1_title": false,
   "title_cell": "Table of Contents",
   "title_sidebar": "Contents",
   "toc_cell": false,
   "toc_position": {},
   "toc_section_display": true,
   "toc_window_display": false
  },
  "varInspector": {
   "cols": {
    "lenName": 16,
    "lenType": 16,
    "lenVar": 40
   },
   "kernels_config": {
    "python": {
     "delete_cmd_postfix": "",
     "delete_cmd_prefix": "del ",
     "library": "var_list.py",
     "varRefreshCmd": "print(var_dic_list())"
    },
    "r": {
     "delete_cmd_postfix": ") ",
     "delete_cmd_prefix": "rm(",
     "library": "var_list.r",
     "varRefreshCmd": "cat(var_dic_list()) "
    }
   },
   "types_to_exclude": [
    "module",
    "function",
    "builtin_function_or_method",
    "instance",
    "_Feature"
   ],
   "window_display": false
  }
 },
 "nbformat": 4,
 "nbformat_minor": 2
}
