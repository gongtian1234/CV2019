{
 "cells": [
  {
   "cell_type": "markdown",
   "metadata": {},
   "source": [
    "#### 主要内容\n",
    "主要就是学习了解keras构建神经网络时的基本框架和流程，如何添加隐藏层、激活函数、迭代等。"
   ]
  },
  {
   "cell_type": "markdown",
   "metadata": {},
   "source": [
    "#### 线性回归"
   ]
  },
  {
   "cell_type": "code",
   "execution_count": 1,
   "metadata": {
    "ExecuteTime": {
     "end_time": "2019-09-10T07:01:34.950708Z",
     "start_time": "2019-09-10T07:01:31.349660Z"
    }
   },
   "outputs": [
    {
     "name": "stderr",
     "output_type": "stream",
     "text": [
      "Using TensorFlow backend.\n"
     ]
    }
   ],
   "source": [
    "import keras\n",
    "import numpy as np\n",
    "import matplotlib.pyplot as plt\n",
    "# 按顺序构成的模型\n",
    "from keras.models import Sequential\n",
    "# 全连接层模块\n",
    "from keras.layers import Dense"
   ]
  },
  {
   "cell_type": "code",
   "execution_count": 2,
   "metadata": {
    "ExecuteTime": {
     "end_time": "2019-09-10T07:01:37.697661Z",
     "start_time": "2019-09-10T07:01:34.953712Z"
    }
   },
   "outputs": [
    {
     "name": "stdout",
     "output_type": "stream",
     "text": [
      "cost is 0.010370156727731228\n",
      "cost is 0.00011770331184379756\n",
      "cost is 9.424651943845674e-05\n",
      "cost is 8.771229477133602e-05\n",
      "cost is 8.589204662712291e-05\n",
      "cost is 8.538502879673615e-05\n",
      "cost is 8.524380973540246e-05\n",
      "cost is 8.520446135662496e-05\n",
      "cost is 8.519347466062754e-05\n",
      "cost is 8.519043331034482e-05\n",
      "cost is 8.51896038511768e-05\n",
      "[[0.19885324]] [0.09950154]\n"
     ]
    },
    {
     "data": {
      "image/png": "[encoded data removed]",
      "text/plain": [
       "<Figure size 432x288 with 1 Axes>"
      ]
     },
     "metadata": {
      "needs_background": "light"
     },
     "output_type": "display_data"
    }
   ],
   "source": [
    "# 生成数据\n",
    "x_data = np.random.rand(100)\n",
    "noise = np.random.normal(0.0, 0.01, x_data.shape)\n",
    "y_data = 0.2*x_data + 0.1 + noise\n",
    "\n",
    "model = Sequential()\n",
    "model.add(Dense(units=1, input_dim=1))    # units: 输出的维度;  input_dim: 输出的维度\n",
    "model.compile(optimizer='sgd', loss='mse')    # 使用随机梯度进行优化，损失用mse度量\n",
    "\n",
    "# 第一种训练的方法（第二种更常用）\n",
    "for i in range(5001):\n",
    "    cost = model.train_on_batch(x_data, y_data)\n",
    "    if i%500==0:\n",
    "        print('cost is {}'.format(cost))\n",
    "\n",
    "# 第二种性训练模型的方法\n",
    "# model.fit(x_data, y_data, epochs=3000)\n",
    "        \n",
    "# 打印训练的参数结果\n",
    "w,b = model.layers[0].get_weights()\n",
    "print(w,b)\n",
    "y_pred = model.predict(x_data)\n",
    "\n",
    "plt.scatter(x_data,y_data)\n",
    "plt.plot(x_data, y_pred, 'r')\n",
    "plt.show()"
   ]
  },
  {
   "cell_type": "markdown",
   "metadata": {},
   "source": [
    "#### 非线性回归"
   ]
  },
  {
   "cell_type": "code",
   "execution_count": 3,
   "metadata": {
    "ExecuteTime": {
     "end_time": "2019-09-10T07:01:37.711670Z",
     "start_time": "2019-09-10T07:01:37.705670Z"
    }
   },
   "outputs": [],
   "source": [
    "import numpy as np\n",
    "import keras\n",
    "from keras.layers import Dense, Activation\n",
    "from keras.models import Sequential\n",
    "from keras.optimizers import SGD\n",
    "import matplotlib.pyplot as plt"
   ]
  },
  {
   "cell_type": "code",
   "execution_count": 4,
   "metadata": {
    "ExecuteTime": {
     "end_time": "2019-09-10T07:01:40.017093Z",
     "start_time": "2019-09-10T07:01:37.715673Z"
    }
   },
   "outputs": [
    {
     "name": "stdout",
     "output_type": "stream",
     "text": [
      "cost is 8.51896038511768e-05\n",
      "cost is 8.51896038511768e-05\n",
      "cost is 8.51896038511768e-05\n",
      "cost is 8.51896038511768e-05\n",
      "cost is 8.51896038511768e-05\n",
      "cost is 8.51896038511768e-05\n",
      "cost is 8.51896038511768e-05\n"
     ]
    },
    {
     "data": {
      "image/png": "[encoded data removed]",
      "text/plain": [
       "<Figure size 432x288 with 1 Axes>"
      ]
     },
     "metadata": {
      "needs_background": "light"
     },
     "output_type": "display_data"
    }
   ],
   "source": [
    "x_data = np.linspace(-0.5, 0.5, 200)\n",
    "noise = np.random.normal(0.0, 0.01, x_data.shape)\n",
    "y_data = np.square(x_data) + noise\n",
    "\n",
    "# input ---> 10 ---> 1\n",
    "model = Sequential()\n",
    "model.add(Dense(units=10, input_dim=1, activation='tanh'))\n",
    "model.add(Dense(units=1, activation='tanh'))\n",
    "\n",
    "sgd = SGD(lr=0.3)\n",
    "model.compile(optimizer=sgd, loss='mse')\n",
    "for i in range(3001):\n",
    "    loss = model.train_on_batch(x_data, y_data)\n",
    "    if i%500==0:\n",
    "        print('cost is {}'.format(cost))\n",
    "y_pred = model.predict(x_data)\n",
    "\n",
    "plt.scatter(x_data, y_data)\n",
    "plt.plot(x_data, y_pred, 'r')\n",
    "plt.show()"
   ]
  },
  {
   "cell_type": "code",
   "execution_count": null,
   "metadata": {},
   "outputs": [],
   "source": []
  }
 ],
 "metadata": {
  "kernelspec": {
   "display_name": "Python 3",
   "language": "python",
   "name": "python3"
  },
  "language_info": {
   "codemirror_mode": {
    "name": "ipython",
    "version": 3
   },
   "file_extension": ".py",
   "mimetype": "text/x-python",
   "name": "python",
   "nbconvert_exporter": "python",
   "pygments_lexer": "ipython3",
   "version": "3.6.4"
  },
  "toc": {
   "base_numbering": 1,
   "nav_menu": {},
   "number_sections": true,
   "sideBar": true,
   "skip_h1_title": false,
   "title_cell": "Table of Contents",
   "title_sidebar": "Contents",
   "toc_cell": false,
   "toc_position": {},
   "toc_section_display": true,
   "toc_window_display": false
  },
  "varInspector": {
   "cols": {
    "lenName": 16,
    "lenType": 16,
    "lenVar": 40
   },
   "kernels_config": {
    "python": {
     "delete_cmd_postfix": "",
     "delete_cmd_prefix": "del ",
     "library": "var_list.py",
     "varRefreshCmd": "print(var_dic_list())"
    },
    "r": {
     "delete_cmd_postfix": ") ",
     "delete_cmd_prefix": "rm(",
     "library": "var_list.r",
     "varRefreshCmd": "cat(var_dic_list()) "
    }
   },
   "position": {
    "height": "483px",
    "left": "853px",
    "right": "20px",
    "top": "89px",
    "width": "460px"
   },
   "types_to_exclude": [
    "module",
    "function",
    "builtin_function_or_method",
    "instance",
    "_Feature"
   ],
   "window_display": false
  }
 },
 "nbformat": 4,
 "nbformat_minor": 2
}
