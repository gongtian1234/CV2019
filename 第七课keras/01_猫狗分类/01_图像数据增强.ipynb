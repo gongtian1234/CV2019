{
 "cells": [
  {
   "cell_type": "code",
   "execution_count": 1,
   "metadata": {
    "ExecuteTime": {
     "end_time": "2019-09-14T03:02:04.117264Z",
     "start_time": "2019-09-14T03:02:04.112260Z"
    }
   },
   "outputs": [],
   "source": [
    "from keras.preprocessing.image import ImageDataGenerator, array_to_img, img_to_array, load_img\n",
    "import numpy as np"
   ]
  },
  {
   "cell_type": "markdown",
   "metadata": {},
   "source": [
    "##### 参数解释\n",
    "* rotation_range是一个0~180的度数，用来指定随机选择图片的角度。  \n",
    "* width_shift和height_shift用来指定水平和竖直方向随机移动的程度，这是两个0~1之间的比  \n",
    "* rescale值将在执行其他处理前乘到整个图像上，我们的图像在RGB通道都是0~255的整数，这样的操作可能使图像的值过高或过低，所以我们将这个值定为0~1之间的数。  \n",
    "* shear_range是用来进行错切变换的程度，参考错切变换 \n",
    "* zoom_range用来进行随机的放大  \n",
    "* horizontal_flip随机的对图片进行水平翻转，这个参数适用于水平翻转不影响图片语义的时候  \n",
    "* fill_mode用来指定当需要进行像素填充，如旋转，水平和竖直位移时，如何填充新出现的像素  "
   ]
  },
  {
   "cell_type": "code",
   "execution_count": 3,
   "metadata": {
    "ExecuteTime": {
     "end_time": "2019-09-14T03:10:43.710592Z",
     "start_time": "2019-09-14T03:10:43.704586Z"
    }
   },
   "outputs": [],
   "source": [
    "datagen = ImageDataGenerator(rotation_range=40,    # 随机旋转的度数 \n",
    "                             width_shift_range=0.2,    # 随机水平平移\n",
    "                             height_shift_range=0.2,   # 随机垂直平移\n",
    "                             rescale=1/255,            # 数据归一化\n",
    "                             shear_range=20,           # 随机错切变换\n",
    "                             zoom_range=0.2,           # 随机放大\n",
    "                             horizontal_flip=True,     # 水平翻转\n",
    "                             fill_mode='nearest',      # 填充方式\n",
    "                            )"
   ]
  },
  {
   "cell_type": "code",
   "execution_count": 4,
   "metadata": {
    "ExecuteTime": {
     "end_time": "2019-09-14T03:18:48.254019Z",
     "start_time": "2019-09-14T03:18:46.910510Z"
    }
   },
   "outputs": [
    {
     "name": "stdout",
     "output_type": "stream",
     "text": [
      "(287, 300, 3)\n",
      "(1, 287, 300, 3)\n",
      "Finshed!\n"
     ]
    }
   ],
   "source": [
    "# 载入图片\n",
    "image = load_img('image/train/dog/dog.4.jpg')\n",
    "x = img_to_array(image)\n",
    "print(x.shape)\n",
    "\n",
    "x = np.expand_dims(x, 0)\n",
    "print(x.shape)\n",
    "\n",
    "i = 0\n",
    "for batch in datagen.flow(x, batch_size=1, save_to_dir='tmp', save_prefix='new_dog', save_format='jpeg'):\n",
    "    i += 1\n",
    "    if i==20:\n",
    "        break\n",
    "print('Finshed!')"
   ]
  },
  {
   "cell_type": "code",
   "execution_count": null,
   "metadata": {},
   "outputs": [],
   "source": []
  }
 ],
 "metadata": {
  "kernelspec": {
   "display_name": "Python 3",
   "language": "python",
   "name": "python3"
  },
  "language_info": {
   "codemirror_mode": {
    "name": "ipython",
    "version": 3
   },
   "file_extension": ".py",
   "mimetype": "text/x-python",
   "name": "python",
   "nbconvert_exporter": "python",
   "pygments_lexer": "ipython3",
   "version": "3.6.4"
  },
  "toc": {
   "base_numbering": 1,
   "nav_menu": {},
   "number_sections": true,
   "sideBar": true,
   "skip_h1_title": false,
   "title_cell": "Table of Contents",
   "title_sidebar": "Contents",
   "toc_cell": false,
   "toc_position": {},
   "toc_section_display": true,
   "toc_window_display": false
  },
  "varInspector": {
   "cols": {
    "lenName": 16,
    "lenType": 16,
    "lenVar": 40
   },
   "kernels_config": {
    "python": {
     "delete_cmd_postfix": "",
     "delete_cmd_prefix": "del ",
     "library": "var_list.py",
     "varRefreshCmd": "print(var_dic_list())"
    },
    "r": {
     "delete_cmd_postfix": ") ",
     "delete_cmd_prefix": "rm(",
     "library": "var_list.r",
     "varRefreshCmd": "cat(var_dic_list()) "
    }
   },
   "types_to_exclude": [
    "module",
    "function",
    "builtin_function_or_method",
    "instance",
    "_Feature"
   ],
   "window_display": false
  }
 },
 "nbformat": 4,
 "nbformat_minor": 2
}
