{
 "cells": [
  {
   "cell_type": "code",
   "execution_count": null,
   "metadata": {},
   "outputs": [],
   "source": [
    "import tensorflow as tf\n",
    "from tensorflow.examples.tutorials.mnist import input_data"
   ]
  },
  {
   "cell_type": "markdown",
   "metadata": {},
   "source": [
    "###### 建立一个最简单的网络进行实例"
   ]
  },
  {
   "cell_type": "markdown",
   "metadata": {},
   "source": [
    "### 1、第一种方法：保存的模型加载后仍能进行修改"
   ]
  },
  {
   "cell_type": "code",
   "execution_count": null,
   "metadata": {},
   "outputs": [],
   "source": [
    "# 模型保存\n",
    "mnist = input_data.read_data_sets('MNIST_data', one_hot=True)\n",
    "batch_size = 256\n",
    "n_batch = mnist.train.num_examples // batch_size\n",
    "# with tf.name_scope('input'):\n",
    "x = tf.placeholder(tf.float32, [None, 784], name='x-input')\n",
    "y = tf.placeholder(tf.float32, [None, 10], name='y-input')\n",
    "# with tf.name_scope('layer'):\n",
    "# 构建一个784*10的神经网络\n",
    "w = tf.Variable(tf.truncated_normal([784,10], stddev=0.1))\n",
    "b = tf.Variable(tf.zeros([10])+0.1)\n",
    "pred = tf.nn.softmax(tf.matmul(x,w)+b, name='output')\n",
    "# with tf.name_scope('loss'):\n",
    "loss = tf.losses.softmax_cross_entropy(y, pred)\n",
    "train = tf.train.AdamOptimizer(0.01).minimize(loss, name='train')\n",
    "# with tf.name_scope('accuracy'):\n",
    "corrent_pred = tf.equal(tf.argmax(y,1), tf.argmax(pred, 1))\n",
    "accuracy = tf.reduce_mean(tf.cast(corrent_pred, tf.float32), name='accuracy')\n",
    "\n",
    "saver = tf.train.Saver()\n",
    "    \n",
    "with tf.Session() as sess:\n",
    "    sess.run(tf.global_variables_initializer())\n",
    "    for epoch in range(21):\n",
    "        for batch in range(n_batch):\n",
    "            batch_xs, batch_ys = mnist.train.next_batch(batch_size)\n",
    "            sess.run(train, feed_dict={x:batch_xs,y:batch_ys})\n",
    "        acc = sess.run(accuracy, feed_dict={x:mnist.test.images, y:mnist.test.labels})\n",
    "        print('Epoch {}, test accuracy is {}'.format(epoch, acc))\n",
    "    saver.save(sess, 'models/my_model.ckpt')\n",
    "    ## 会生成4个文件"
   ]
  },
  {
   "cell_type": "code",
   "execution_count": null,
   "metadata": {},
   "outputs": [],
   "source": [
    "# 模型加载\n",
    "## ①模型参数和模型文件都有\n",
    "### 但是这种方法载入模型后需要通过tensor的名字来调用，所以要求模型保存时必须添加name\n",
    "import tensorflow as tf\n",
    "from tensorflow.examples.tutorials.mnist import input_data\n",
    "mnist = input_data.read_data_sets('MNIST_data', one_hot=True)\n",
    "batch_size = 256\n",
    "n_batch = mnist.train.num_examples // batch_size\n",
    "\n",
    "with tf.Session() as sess:\n",
    "    # 载入模型结构\n",
    "    saver = tf.train.import_meta_graph('models/my_model.ckpt.meta')\n",
    "    # 载入模型参数\n",
    "    saver.restore(sess, 'models/my_model.ckpt')\n",
    "    output = sess.graph.get_tensor_by_name('output:0')    # :0是在保存时自己加上的\n",
    "    accuracy = sess.graph.get_tensor_by_name('accuracy:0')\n",
    "    # train是operation，所以需要get_operation_by_name()来调用\n",
    "    ## 对于模型具体有哪些参数，在载入后怎么调用，那就得看文件发布者是否给出了，没给出就没法调用 ## \n",
    "#     for var in tf.trainable_variables():\n",
    "#         print(var.name)\n",
    "    train_step = sess.graph.get_operation_by_name('train')\n",
    "    print(sess.run(accuracy, feed_dict={x:mnist.test.images, y:mnist.test.labels}))\n",
    "    \n",
    "    for epoch in range(21):\n",
    "        for batch in range(n_batch):\n",
    "            batch_xs, batch_ys = mnist.train.next_batch(batch_size)\n",
    "            sess.run(train_step, feed_dict={x:batch_xs, y:batch_ys})\n",
    "        acc = sess.run(accuracy, feed_dict={x:mnist.test.images, y:mnist.test.labels})\n",
    "        print('Epoch {}, test accuracy is {}'.format(epoch, acc))"
   ]
  },
  {
   "cell_type": "code",
   "execution_count": 1,
   "metadata": {
    "scrolled": false
   },
   "outputs": [
    {
     "name": "stdout",
     "output_type": "stream",
     "text": [
      "WARNING:tensorflow:From <ipython-input-1-7b0bc1ffb0c6>:6: read_data_sets (from tensorflow.contrib.learn.python.learn.datasets.mnist) is deprecated and will be removed in a future version.\n",
      "Instructions for updating:\n",
      "Please use alternatives such as official/mnist/dataset.py from tensorflow/models.\n",
      "WARNING:tensorflow:From c:\\users\\kljdgf\\appdata\\local\\programs\\python\\python36\\lib\\site-packages\\tensorflow\\contrib\\learn\\python\\learn\\datasets\\mnist.py:260: maybe_download (from tensorflow.contrib.learn.python.learn.datasets.base) is deprecated and will be removed in a future version.\n",
      "Instructions for updating:\n",
      "Please write your own downloading logic.\n",
      "WARNING:tensorflow:From c:\\users\\kljdgf\\appdata\\local\\programs\\python\\python36\\lib\\site-packages\\tensorflow\\contrib\\learn\\python\\learn\\datasets\\mnist.py:262: extract_images (from tensorflow.contrib.learn.python.learn.datasets.mnist) is deprecated and will be removed in a future version.\n",
      "Instructions for updating:\n",
      "Please use tf.data to implement this functionality.\n",
      "Extracting MNIST_data\\train-images-idx3-ubyte.gz\n",
      "WARNING:tensorflow:From c:\\users\\kljdgf\\appdata\\local\\programs\\python\\python36\\lib\\site-packages\\tensorflow\\contrib\\learn\\python\\learn\\datasets\\mnist.py:267: extract_labels (from tensorflow.contrib.learn.python.learn.datasets.mnist) is deprecated and will be removed in a future version.\n",
      "Instructions for updating:\n",
      "Please use tf.data to implement this functionality.\n",
      "Extracting MNIST_data\\train-labels-idx1-ubyte.gz\n",
      "WARNING:tensorflow:From c:\\users\\kljdgf\\appdata\\local\\programs\\python\\python36\\lib\\site-packages\\tensorflow\\contrib\\learn\\python\\learn\\datasets\\mnist.py:110: dense_to_one_hot (from tensorflow.contrib.learn.python.learn.datasets.mnist) is deprecated and will be removed in a future version.\n",
      "Instructions for updating:\n",
      "Please use tf.one_hot on tensors.\n",
      "Extracting MNIST_data\\t10k-images-idx3-ubyte.gz\n",
      "Extracting MNIST_data\\t10k-labels-idx1-ubyte.gz\n",
      "WARNING:tensorflow:From c:\\users\\kljdgf\\appdata\\local\\programs\\python\\python36\\lib\\site-packages\\tensorflow\\contrib\\learn\\python\\learn\\datasets\\mnist.py:290: DataSet.__init__ (from tensorflow.contrib.learn.python.learn.datasets.mnist) is deprecated and will be removed in a future version.\n",
      "Instructions for updating:\n",
      "Please use alternatives such as official/mnist/dataset.py from tensorflow/models.\n",
      "0.1011\n",
      "INFO:tensorflow:Restoring parameters from models/my_model.ckpt\n",
      "0.9338\n",
      "Epoch 0, test accuracy is 0.9330000281333923\n",
      "Epoch 1, test accuracy is 0.9332000017166138\n",
      "Epoch 2, test accuracy is 0.9333999752998352\n",
      "Epoch 3, test accuracy is 0.9337000250816345\n",
      "Epoch 4, test accuracy is 0.9332000017166138\n",
      "Epoch 5, test accuracy is 0.9340000152587891\n",
      "Epoch 6, test accuracy is 0.9337999820709229\n",
      "Epoch 7, test accuracy is 0.9340000152587891\n",
      "Epoch 8, test accuracy is 0.9337999820709229\n",
      "Epoch 9, test accuracy is 0.9337999820709229\n",
      "Epoch 10, test accuracy is 0.9336000084877014\n"
     ]
    }
   ],
   "source": [
    "# ②模型加载的第二种方法\n",
    "## 没有模型结构文件但知道模型结构时，可以使用\n",
    "import tensorflow as tf\n",
    "from tensorflow.examples.tutorials.mnist import input_data\n",
    "\n",
    "mnist = input_data.read_data_sets('MNIST_data', one_hot=True)\n",
    "batch_size = 256\n",
    "n_batch = mnist.train.num_examples // batch_size\n",
    "\n",
    "# 模型参数必须和原来的参数一样\n",
    "x = tf.placeholder(tf.float32, [None,784])\n",
    "y = tf.placeholder(tf.float32, [None,10])\n",
    "w = tf.Variable(tf.truncated_normal([784,10], stddev=0.1))\n",
    "b = tf.Variable(tf.zeros([10])+0.1)\n",
    "pred = tf.nn.softmax(tf.matmul(x,w)+b)\n",
    "loss = tf.losses.softmax_cross_entropy(y, pred)\n",
    "train = tf.train.AdamOptimizer(0.001).minimize(loss)\n",
    "correct_pred = tf.equal(tf.argmax(y,1), tf.argmax(pred,1))\n",
    "accuracy = tf.reduce_mean(tf.cast(correct_pred, tf.float32))\n",
    "saver = tf.train.Saver(max_to_keep=5)    # 只保存最新的5个模型，旧的模型会被覆盖\n",
    "with tf.Session() as sess:\n",
    "    sess.run(tf.global_variables_initializer())\n",
    "    print(sess.run(accuracy, feed_dict={x:mnist.test.images,y:mnist.test.labels}))\n",
    "    saver.restore(sess, 'models/my_model.ckpt')\n",
    "    print(sess.run(accuracy, feed_dict={x:mnist.test.images,y:mnist.test.labels}))\n",
    "    for epoch in range(11):\n",
    "        for batch in range(n_batch):\n",
    "            batch_xs, batch_ys = mnist.train.next_batch(batch_size)\n",
    "            sess.run(train, feed_dict={x:batch_xs, y:batch_ys})\n",
    "        acc = sess.run(accuracy, feed_dict={x:mnist.test.images,y:mnist.test.labels})\n",
    "        print('Epoch {}, test accuracy is {}'.format(epoch, acc))\n",
    "        saver.save(sess, 'models/my_model.ckpt', global_step=epoch)"
   ]
  },
  {
   "cell_type": "markdown",
   "metadata": {},
   "source": [
    "### 2、模型保存和加载的第二种方法\n",
    "（这种只能用，不能再进行训练）"
   ]
  },
  {
   "cell_type": "code",
   "execution_count": null,
   "metadata": {},
   "outputs": [
    {
     "name": "stdout",
     "output_type": "stream",
     "text": [
      "Extracting MNIST_data\\train-images-idx3-ubyte.gz\n",
      "Extracting MNIST_data\\train-labels-idx1-ubyte.gz\n",
      "Extracting MNIST_data\\t10k-images-idx3-ubyte.gz\n",
      "Extracting MNIST_data\\t10k-labels-idx1-ubyte.gz\n",
      "Epoch 0,Testing Accuracy 0.9029\n",
      "Epoch 1,Testing Accuracy 0.9138\n",
      "Epoch 2,Testing Accuracy 0.9199\n",
      "Epoch 3,Testing Accuracy 0.9231\n",
      "Epoch 4,Testing Accuracy 0.924\n",
      "Epoch 5,Testing Accuracy 0.9258\n",
      "Epoch 6,Testing Accuracy 0.9279\n",
      "Epoch 7,Testing Accuracy 0.9279\n",
      "Epoch 8,Testing Accuracy 0.9286\n",
      "Epoch 9,Testing Accuracy 0.9287\n",
      "Epoch 10,Testing Accuracy 0.9292\n",
      "INFO:tensorflow:Froze 2 variables.\n",
      "INFO:tensorflow:Converted 2 variables to const ops.\n"
     ]
    }
   ],
   "source": [
    "# 模型保存\n",
    "import tensorflow as tf\n",
    "from tensorflow.examples.tutorials.mnist import input_data\n",
    "\n",
    "mnist = input_data.read_data_sets(\"MNIST_data\",one_hot=True)\n",
    "batch_size = 64\n",
    "n_batch = mnist.train.num_examples // batch_size\n",
    "\n",
    "x = tf.placeholder(tf.float32,[None,784], name='x-input')\n",
    "y = tf.placeholder(tf.float32,[None,10], name='y-input')\n",
    "\n",
    "W = tf.Variable(tf.truncated_normal([784,10],stddev=0.1))\n",
    "b = tf.Variable(tf.zeros([10])+0.1)\n",
    "prediction = tf.nn.softmax(tf.matmul(x,W)+b, name='output')\n",
    "\n",
    "loss = tf.losses.softmax_cross_entropy(y,prediction)\n",
    "train_step = tf.train.AdamOptimizer(0.001).minimize(loss, name='train')\n",
    "\n",
    "correct_prediction = tf.equal(tf.argmax(y,1),tf.argmax(prediction,1))\n",
    "accuracy = tf.reduce_mean(tf.cast(correct_prediction,tf.float32), name='accuracy')\n",
    "\n",
    "init = tf.global_variables_initializer()\n",
    "\n",
    "with tf.Session() as sess:\n",
    "    sess.run(init)\n",
    "    for epoch in range(11):\n",
    "        for batch in range(n_batch):\n",
    "            batch_xs,batch_ys =  mnist.train.next_batch(batch_size)\n",
    "            sess.run(train_step,feed_dict={x:batch_xs,y:batch_ys})\n",
    "        acc = sess.run(accuracy,feed_dict={x:mnist.test.images,y:mnist.test.labels})\n",
    "        print(\"Epoch \" + str(epoch) + \",Testing Accuracy \" + str(acc))\n",
    "    ## 保存模型参数和结构,把变量变成常量\n",
    "    ## output_node_names设置可以输出的tensor\n",
    "    output_graph_def = tf.graph_util.convert_variables_to_constants(sess, sess.graph_def, output_node_names=['output','accuracy'])\n",
    "    # 保存模型到目录下的models文件夹中\n",
    "    with tf.gfile.FastGFile('pb_models/my_model.pb',mode='wb') as f:\n",
    "        f.write(output_graph_def.SerializeToString())"
   ]
  },
  {
   "cell_type": "code",
   "execution_count": null,
   "metadata": {},
   "outputs": [
    {
     "name": "stdout",
     "output_type": "stream",
     "text": [
      "WARNING:tensorflow:From <ipython-input-1-e0c0bb508982>:5: read_data_sets (from tensorflow.contrib.learn.python.learn.datasets.mnist) is deprecated and will be removed in a future version.\n",
      "Instructions for updating:\n",
      "Please use alternatives such as official/mnist/dataset.py from tensorflow/models.\n",
      "WARNING:tensorflow:From c:\\users\\kljdgf\\appdata\\local\\programs\\python\\python36\\lib\\site-packages\\tensorflow\\contrib\\learn\\python\\learn\\datasets\\mnist.py:260: maybe_download (from tensorflow.contrib.learn.python.learn.datasets.base) is deprecated and will be removed in a future version.\n",
      "Instructions for updating:\n",
      "Please write your own downloading logic.\n",
      "WARNING:tensorflow:From c:\\users\\kljdgf\\appdata\\local\\programs\\python\\python36\\lib\\site-packages\\tensorflow\\contrib\\learn\\python\\learn\\datasets\\mnist.py:262: extract_images (from tensorflow.contrib.learn.python.learn.datasets.mnist) is deprecated and will be removed in a future version.\n",
      "Instructions for updating:\n",
      "Please use tf.data to implement this functionality.\n",
      "Extracting MNIST_data\\train-images-idx3-ubyte.gz\n",
      "WARNING:tensorflow:From c:\\users\\kljdgf\\appdata\\local\\programs\\python\\python36\\lib\\site-packages\\tensorflow\\contrib\\learn\\python\\learn\\datasets\\mnist.py:267: extract_labels (from tensorflow.contrib.learn.python.learn.datasets.mnist) is deprecated and will be removed in a future version.\n",
      "Instructions for updating:\n",
      "Please use tf.data to implement this functionality.\n",
      "Extracting MNIST_data\\train-labels-idx1-ubyte.gz\n",
      "WARNING:tensorflow:From c:\\users\\kljdgf\\appdata\\local\\programs\\python\\python36\\lib\\site-packages\\tensorflow\\contrib\\learn\\python\\learn\\datasets\\mnist.py:110: dense_to_one_hot (from tensorflow.contrib.learn.python.learn.datasets.mnist) is deprecated and will be removed in a future version.\n",
      "Instructions for updating:\n",
      "Please use tf.one_hot on tensors.\n",
      "Extracting MNIST_data\\t10k-images-idx3-ubyte.gz\n",
      "Extracting MNIST_data\\t10k-labels-idx1-ubyte.gz\n",
      "WARNING:tensorflow:From c:\\users\\kljdgf\\appdata\\local\\programs\\python\\python36\\lib\\site-packages\\tensorflow\\contrib\\learn\\python\\learn\\datasets\\mnist.py:290: DataSet.__init__ (from tensorflow.contrib.learn.python.learn.datasets.mnist) is deprecated and will be removed in a future version.\n",
      "Instructions for updating:\n",
      "Please use alternatives such as official/mnist/dataset.py from tensorflow/models.\n"
     ]
    }
   ],
   "source": [
    "# 模型加载\n",
    "import tensorflow as tf\n",
    "from tensorflow.examples.tutorials.mnist import input_data\n",
    "# 载入数据集\n",
    "mnist = input_data.read_data_sets(\"MNIST_data\",one_hot=True)\n",
    "# 载入模型\n",
    "with tf.gfile.FastGFile('pb_models/my_model.pb', 'rb') as f:\n",
    "    # 创建一个图\n",
    "    graph_def = tf.GraphDef()\n",
    "    # 把模型文件载入到图中\n",
    "    graph_def.ParseFromString(f.read())\n",
    "    # 载入图到当前环境中\n",
    "    tf.import_graph_def(graph_def, name='')\n",
    "\n",
    "with tf.Session() as sess:\n",
    "    # 根据tensor的名字获取到对应的tensor\n",
    "    # 之前保存模型的时候模型输出保存为output，\":0\"是保存模型参数时自动加上的，所以这里也要写上\n",
    "    output = sess.graph.get_tensor_by_name('output:0')\n",
    "    # 根据tensor的名字获取到对应的tensor\n",
    "    # 之前保存模型的时候准确率计算保存为accuracy，\":0\"是保存模型参数时自动加上的，所以这里也要写上\n",
    "    accuracy = sess.graph.get_tensor_by_name('accuracy:0')\n",
    "    # 预测准确率\n",
    "    print(sess.run(accuracy,feed_dict={'x-input:0':mnist.test.images,'y-input:0':mnist.test.labels}))"
   ]
  },
  {
   "cell_type": "markdown",
   "metadata": {},
   "source": [
    "本文亮点：  \n",
    "模型的保存和加载：  \n",
    "1、保存的模型加载出来后可进行修改：  \n",
    "①模型保存：  \n",
    "\n",
    "    # 其他类似\n",
    "    saver = tf.train.Saver()\n",
    "    with tf.Session() as sess:\n",
    "        ## 其他类似\n",
    "        saver.save('路径.ckpt')\n",
    "        ## 会生成4个文件\n",
    "\n",
    "②模型加载"
   ]
  },
  {
   "cell_type": "code",
   "execution_count": null,
   "metadata": {},
   "outputs": [],
   "source": []
  }
 ],
 "metadata": {
  "kernelspec": {
   "display_name": "Python 3",
   "language": "python",
   "name": "python3"
  },
  "language_info": {
   "codemirror_mode": {
    "name": "ipython",
    "version": 3
   },
   "file_extension": ".py",
   "mimetype": "text/x-python",
   "name": "python",
   "nbconvert_exporter": "python",
   "pygments_lexer": "ipython3",
   "version": "3.6.4"
  }
 },
 "nbformat": 4,
 "nbformat_minor": 2
}
