{
 "cells": [
  {
   "cell_type": "markdown",
   "metadata": {},
   "source": [
    "### 优化器\n",
    "优化器有好几种：  \n",
    "1. 最基础的是：梯度下降法tf.train.GradientDescentOptimizer(learning_rate).minimize(loss)  \n",
    "2. 最常用的是AdamOptimizer().minimize(),使用AdamOptimizer()时，其学习率要尽量小一些，如0.01，但是0.3就太大，会使训练结果不好    \n",
    "其中Adam优化器是结合了MomentumOptimizer和RMSPropOptimizer。\n",
    "3. 当然还有一些其他种类的优化器。"
   ]
  },
  {
   "cell_type": "code",
   "execution_count": 1,
   "metadata": {},
   "outputs": [],
   "source": [
    "import tensorflow as tf\n",
    "from tensorflow.examples.tutorials.mnist import input_data"
   ]
  },
  {
   "cell_type": "code",
   "execution_count": 12,
   "metadata": {},
   "outputs": [
    {
     "name": "stdout",
     "output_type": "stream",
     "text": [
      "Extracting MNIST_data\\train-images-idx3-ubyte.gz\n",
      "Extracting MNIST_data\\train-labels-idx1-ubyte.gz\n",
      "Extracting MNIST_data\\t10k-images-idx3-ubyte.gz\n",
      "Extracting MNIST_data\\t10k-labels-idx1-ubyte.gz\n",
      "Epoch 0, test accuracy is 0.9520000219345093\n",
      "Epoch 1, test accuracy is 0.9664000272750854\n",
      "Epoch 2, test accuracy is 0.9693999886512756\n",
      "Epoch 3, test accuracy is 0.9696000218391418\n",
      "Epoch 4, test accuracy is 0.9746000170707703\n",
      "Epoch 5, test accuracy is 0.9743000268936157\n",
      "Epoch 6, test accuracy is 0.9735999703407288\n",
      "Epoch 7, test accuracy is 0.9760000109672546\n",
      "Epoch 8, test accuracy is 0.9776999950408936\n",
      "Epoch 9, test accuracy is 0.9775000214576721\n",
      "Epoch 10, test accuracy is 0.9757999777793884\n",
      "Epoch 11, test accuracy is 0.9782000184059143\n",
      "Epoch 12, test accuracy is 0.9769999980926514\n",
      "Epoch 13, test accuracy is 0.9764000177383423\n",
      "Epoch 14, test accuracy is 0.9771000146865845\n",
      "Epoch 15, test accuracy is 0.9764000177383423\n",
      "Epoch 16, test accuracy is 0.9779999852180481\n",
      "Epoch 17, test accuracy is 0.9782999753952026\n",
      "Epoch 18, test accuracy is 0.9768999814987183\n",
      "Epoch 19, test accuracy is 0.9785000085830688\n",
      "Epoch 20, test accuracy is 0.9769999980926514\n"
     ]
    }
   ],
   "source": [
    "mnist = input_data.read_data_sets('MNIST_data', one_hot=True)\n",
    "batch_size = 128\n",
    "n_batch = mnist.train.num_examples // batch_size\n",
    "\n",
    "x = tf.placeholder(tf.float32, [None, 784])\n",
    "y = tf.placeholder(tf.float32, [None, 10])\n",
    "keep_prob = tf.placeholder(tf.float32)\n",
    "\n",
    "# 构建784-1000-500-10的神经网络\n",
    "w1 = tf.Variable(tf.truncated_normal([784,1000], stddev=0.1))\n",
    "b1 = tf.Variable(tf.zeros([1000])+0.1)\n",
    "a1 = tf.nn.tanh(tf.matmul(x,w1)+b1)\n",
    "a1_drop = tf.nn.dropout(a1, keep_prob)\n",
    "\n",
    "w2 = tf.Variable(tf.truncated_normal([1000,500], stddev=0.1))\n",
    "b2 = tf.Variable(tf.zeros([500])+0.1)\n",
    "a2 = tf.nn.tanh(tf.matmul(a1_drop,w2)+b2)\n",
    "a2_drop = tf.nn.dropout(a2, keep_prob)\n",
    "\n",
    "w3 = tf.Variable(tf.truncated_normal([500,10], stddev=0.1))\n",
    "b3 = tf.Variable(tf.zeros(10)+0.1)\n",
    "pred = tf.nn.softmax(tf.matmul(a2_drop, w3)+b3)\n",
    "\n",
    "# L2正则化\n",
    "# l2_loss = tf.nn.l2_loss(w1)+tf.nn.l2_loss(b1) + tf.nn.l2_loss(w2)+tf.nn.l2_loss(b2) + tf.nn.l2_loss(w3)+tf.nn.l2_loss(b3)\n",
    "# loss = tf.losses.sigmoid_cross_entropy(y,pred) + 0.0005*l2_loss\n",
    "loss = tf.losses.sigmoid_cross_entropy(y, pred)\n",
    "# 使用Adam优化器\n",
    "# train = tf.train.GradientDescentOptimizer(0.3).minimize(loss)\n",
    "train = tf.train.AdamOptimizer(0.001).minimize(loss)\n",
    "\n",
    "corrent_pred = tf.equal(tf.argmax(y,1), tf.argmax(pred, 1))\n",
    "accuracy = tf.reduce_mean(tf.cast(corrent_pred, tf.float32))\n",
    "\n",
    "with tf.Session() as sess:\n",
    "    sess.run(tf.global_variables_initializer())\n",
    "    for epoch in range(21):\n",
    "        for batch in range(n_batch):\n",
    "            batch_xs, batch_ys = mnist.train.next_batch(batch_size)\n",
    "            sess.run(train, feed_dict={x:batch_xs, y:batch_ys, keep_prob:1.0})\n",
    "        acc = sess.run(accuracy, feed_dict={x:mnist.test.images, y:mnist.test.labels, keep_prob:1.0})\n",
    "        print('Epoch {}, test accuracy is {}'.format(epoch, acc))"
   ]
  }
 ],
 "metadata": {
  "kernelspec": {
   "display_name": "Python 3",
   "language": "python",
   "name": "python3"
  },
  "language_info": {
   "codemirror_mode": {
    "name": "ipython",
    "version": 3
   },
   "file_extension": ".py",
   "mimetype": "text/x-python",
   "name": "python",
   "nbconvert_exporter": "python",
   "pygments_lexer": "ipython3",
   "version": "3.6.4"
  }
 },
 "nbformat": 4,
 "nbformat_minor": 2
}
