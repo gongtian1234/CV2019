{
 "cells": [
  {
   "cell_type": "markdown",
   "metadata": {},
   "source": [
    "Mnist数据集共有60000张图片，50000train+10000test，每张图片为24*24，展开为(60000,784)的矩阵，标签为0-9的数字，训练前需要将其转换为one-hot编码。"
   ]
  },
  {
   "cell_type": "code",
   "execution_count": 5,
   "metadata": {},
   "outputs": [],
   "source": [
    "import tensorflow as tf\n",
    "from tensorflow.examples.tutorials.mnist import input_data\n",
    "import warnings\n",
    "warnings.filterwarnings('ignore')"
   ]
  },
  {
   "cell_type": "code",
   "execution_count": 21,
   "metadata": {},
   "outputs": [
    {
     "name": "stdout",
     "output_type": "stream",
     "text": [
      "Extracting MNIST_data\\train-images-idx3-ubyte.gz\n",
      "Extracting MNIST_data\\train-labels-idx1-ubyte.gz\n",
      "Extracting MNIST_data\\t10k-images-idx3-ubyte.gz\n",
      "Extracting MNIST_data\\t10k-labels-idx1-ubyte.gz\n",
      "Epoch 0,test accuracy is 0.3012000024318695\n",
      "Epoch 1,test accuracy is 0.36250001192092896\n",
      "Epoch 2,test accuracy is 0.3919000029563904\n",
      "Epoch 3,test accuracy is 0.4221000075340271\n",
      "Epoch 4,test accuracy is 0.4629000127315521\n",
      "Epoch 5,test accuracy is 0.4921000003814697\n",
      "Epoch 6,test accuracy is 0.5288000106811523\n",
      "Epoch 7,test accuracy is 0.5644999742507935\n",
      "Epoch 8,test accuracy is 0.595300018787384\n",
      "Epoch 9,test accuracy is 0.6165000200271606\n",
      "Epoch 10,test accuracy is 0.6322000026702881\n",
      "Epoch 11,test accuracy is 0.6444000005722046\n",
      "Epoch 12,test accuracy is 0.6534000039100647\n",
      "Epoch 13,test accuracy is 0.660099983215332\n",
      "Epoch 14,test accuracy is 0.6654000282287598\n",
      "Epoch 15,test accuracy is 0.6692000031471252\n",
      "Epoch 16,test accuracy is 0.6725000143051147\n",
      "Epoch 17,test accuracy is 0.6758999824523926\n",
      "Epoch 18,test accuracy is 0.6776000261306763\n",
      "Epoch 19,test accuracy is 0.6807000041007996\n",
      "Epoch 20,test accuracy is 0.680899977684021\n"
     ]
    }
   ],
   "source": [
    "mnist = input_data.read_data_sets('MNIST_data', one_hot=True)\n",
    "batch_size = 64    # batch_size: 批次大小，表示每次训练放入多少数据\n",
    "n_batch = mnist.train.num_examples // batch_size    # 计算一个周期有多少个批次，但存在一个问题：如果不能整除，则有余数部分的数据永远训练不到\n",
    "x = tf.placeholder(tf.float32, [None, 784])\n",
    "y = tf.placeholder(tf.float32, [None, 10])\n",
    "## U训练一个784-10的简单网络\n",
    "# w = tf.Variable(tf.random_normal([784, 10]))\n",
    "# b = tf.Variable(tf.zeros(10))\n",
    "w = tf.Variable(tf.truncated_normal([784,10]))\n",
    "b = tf.Variable(tf.zeros([10])+0.01)\n",
    "z = tf.matmul(x,w) + b\n",
    "prediction = tf.nn.softmax(z)\n",
    "loss = tf.losses.mean_squared_error(y, prediction)\n",
    "# 将损失函数换为交叉熵损失函数\n",
    "# loss = tf.losses.softmax_cross_entropy(y, prediction)\n",
    "train = tf.train.GradientDescentOptimizer(0.5).minimize(loss)\n",
    "# 定义精确率\n",
    "corrent_pred = tf.equal(tf.argmax(y,1), tf.argmax(prediction, 1))\n",
    "accuracy = tf.reduce_mean(tf.cast(corrent_pred, tf.float32))\n",
    "with tf.Session() as sess:\n",
    "    sess.run(tf.global_variables_initializer())\n",
    "    # epoch(周期)：所有数据训练一次就是一个周期\n",
    "    for epoch in range(21):\n",
    "        for batch in range(n_batch):\n",
    "            batch_xs, batch_ys = mnist.train.next_batch(batch_size)\n",
    "            sess.run(train,feed_dict={x:batch_xs, y:batch_ys})\n",
    "        # 输出精确率\n",
    "        acc = sess.run(accuracy, feed_dict={x:mnist.test.images, y:mnist.test.labels})\n",
    "        print('Epoch {},test accuracy is {}'.format(epoch, acc))\n"
   ]
  },
  {
   "cell_type": "markdown",
   "metadata": {},
   "source": [
    "###### 在分类问题中多使用交叉熵损失函数，在回归问题中多使用二次损失函数。"
   ]
  },
  {
   "cell_type": "markdown",
   "metadata": {},
   "source": [
    "①初始化是普通随机数得到的结果：  \n",
    "w = tf.Variable(tf.random_normal([784,10]))  \n",
    "b = tf,Variable(tf.zeros([10]))\n",
    "\n",
    "    Epoch 0,test accuracy is 0.23549999296665192\n",
    "    Epoch 1,test accuracy is 0.3125999867916107\n",
    "    Epoch 2,test accuracy is 0.4077000021934509\n",
    "    Epoch 3,test accuracy is 0.46799999475479126\n",
    "    Epoch 4,test accuracy is 0.5109999775886536\n",
    "    Epoch 5,test accuracy is 0.5436000227928162\n",
    "    Epoch 6,test accuracy is 0.5698999762535095\n",
    "    Epoch 7,test accuracy is 0.592199981212616\n",
    "    Epoch 8,test accuracy is 0.6085000038146973\n",
    "    Epoch 9,test accuracy is 0.6226000189781189\n",
    "    Epoch 10,test accuracy is 0.6342999935150146\n",
    "    Epoch 11,test accuracy is 0.6468999981880188\n",
    "    Epoch 12,test accuracy is 0.6596999764442444\n",
    "    Epoch 13,test accuracy is 0.6693000197410583\n",
    "    Epoch 14,test accuracy is 0.6786999702453613\n",
    "    Epoch 15,test accuracy is 0.6868000030517578\n",
    "    Epoch 16,test accuracy is 0.6933000087738037\n",
    "    Epoch 17,test accuracy is 0.7006000280380249\n",
    "    Epoch 18,test accuracy is 0.7059999704360962\n",
    "    Epoch 19,test accuracy is 0.7117999792098999\n",
    "    Epoch 20,test accuracy is 0.7139999866485596"
   ]
  },
  {
   "cell_type": "code",
   "execution_count": null,
   "metadata": {},
   "outputs": [],
   "source": []
  },
  {
   "cell_type": "markdown",
   "metadata": {},
   "source": [
    "本文亮点：  \n",
    "①tensorflow中计算准确率  \n",
    "\n",
    "    # 文中为：\n",
    "    corrent_pred = tf.equal(tf.argmax(y, 1), tf.argmax(prediction, 1))\n",
    "    accuracy = tf.reduce_mean(tf.cast(corrent_pred, tf.float32))\n",
    "    ……\n",
    "    acc = sess.run(accuracy, feed_dict={x:mnist.test.images, y:mnist.test.labels})\n",
    "    \n",
    "②损失函数：  \n",
    "会发现交叉熵损失函数要好于二次损失函数  \n",
    "二次损失函数：$\\frac12\\sum_i{(y_i-\\hat{y}_i){^2}}$  \n",
    "交叉熵损失函数：$-\\sum_i[{y_iln\\hat{y}_i+(1-y_i)ln(1-\\hat{y}_i)}]$\n",
    "\n",
    "    # 二次损失函数\n",
    "    loss = tf.losses.mean_squared_error(y, prediction)\n",
    "    # 交叉熵损失函\n",
    "    loss = tf.losses.softmax_cross_entropy(y, prediction)\n",
    "在处理分类问题时多使用交叉熵损失函数，在处理回归问题时多使用二次损失函数。  \n",
    "③用mini-batch梯度下降法：  \n",
    "\n",
    "    # 先划分批次\n",
    "    from tensorflow.examples.tutorials.mnist import input_data\n",
    "    mnist = input_data.read_data_sets('MNIST_data', one_hot=True)\n",
    "    batch_size = 64\n",
    "    n_batch = mnist.train.num_examples // batch_size\n",
    "    ……\n",
    "    for epoch in range(21):    # epoch为周期，一个周期会训练所有的数据\n",
    "        for batch in range(n_batch):\n",
    "            batch_xs, batch_ys = mnist.train.next_batch(batch_size)\n",
    "            sess.run(train, feed_dict={x:batch_xs, y:batch_ys})"
   ]
  },
  {
   "cell_type": "code",
   "execution_count": null,
   "metadata": {},
   "outputs": [],
   "source": [
    "from tensorflow.examples.tutorials.mnist import input_data\n"
   ]
  }
 ],
 "metadata": {
  "kernelspec": {
   "display_name": "Python 3",
   "language": "python",
   "name": "python3"
  },
  "language_info": {
   "codemirror_mode": {
    "name": "ipython",
    "version": 3
   },
   "file_extension": ".py",
   "mimetype": "text/x-python",
   "name": "python",
   "nbconvert_exporter": "python",
   "pygments_lexer": "ipython3",
   "version": "3.6.4"
  }
 },
 "nbformat": 4,
 "nbformat_minor": 2
}
