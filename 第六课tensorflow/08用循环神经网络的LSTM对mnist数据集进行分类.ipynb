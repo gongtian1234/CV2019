{
 "cells": [
  {
   "cell_type": "code",
   "execution_count": 1,
   "metadata": {
    "colab": {
     "base_uri": "https://localhost:8080/",
     "height": 122
    },
    "colab_type": "code",
    "id": "PR45JRvZIbHN",
    "outputId": "753cd381-2ed0-428c-813e-92ae9f3189e3"
   },
   "outputs": [
    {
     "name": "stdout",
     "output_type": "stream",
     "text": [
      "Go to this URL in a browser: https://accounts.google.com/o/oauth2/auth?client_id=947318989803-6bn6qk8qdgf4n4g3pfee6491hc0brc4i.apps.googleusercontent.com&redirect_uri=urn%3Aietf%3Awg%3Aoauth%3A2.0%3Aoob&scope=email%20https%3A%2F%2Fwww.googleapis.com%2Fauth%2Fdocs.test%20https%3A%2F%2Fwww.googleapis.com%2Fauth%2Fdrive%20https%3A%2F%2Fwww.googleapis.com%2Fauth%2Fdrive.photos.readonly%20https%3A%2F%2Fwww.googleapis.com%2Fauth%2Fpeopleapi.readonly&response_type=code\n",
      "\n",
      "Enter your authorization code:\n",
      "··········\n",
      "Mounted at /content/drive\n"
     ]
    }
   ],
   "source": [
    "from google.colab import drive\n",
    "drive.mount('/content/drive')"
   ]
  },
  {
   "cell_type": "code",
   "execution_count": 0,
   "metadata": {
    "colab": {},
    "colab_type": "code",
    "id": "peYOhCaZISpZ"
   },
   "outputs": [],
   "source": [
    "import os\n",
    "import sys\n",
    "os.chdir('drive/My Drive/tensorflow_data')"
   ]
  },
  {
   "cell_type": "code",
   "execution_count": 0,
   "metadata": {
    "colab": {},
    "colab_type": "code",
    "id": "s7nWfAcHI5E4"
   },
   "outputs": [],
   "source": [
    "!ls -lht"
   ]
  },
  {
   "cell_type": "code",
   "execution_count": 0,
   "metadata": {
    "colab": {},
    "colab_type": "code",
    "id": "uODhDxskI-V_"
   },
   "outputs": [],
   "source": [
    "import tensorflow as tf\n",
    "from tensorflow.examples.tutorials.mnist import input_data"
   ]
  },
  {
   "cell_type": "code",
   "execution_count": 5,
   "metadata": {
    "colab": {
     "base_uri": "https://localhost:8080/",
     "height": 445
    },
    "colab_type": "code",
    "id": "afwrTjkpJFIc",
    "outputId": "46d272e6-ae66-45e2-9332-9a39149ff838"
   },
   "outputs": [
    {
     "name": "stderr",
     "output_type": "stream",
     "text": [
      "WARNING: Logging before flag parsing goes to stderr.\n",
      "W0825 05:00:29.534807 140348387104640 deprecation.py:323] From <ipython-input-5-6b146b2591c9>:1: read_data_sets (from tensorflow.contrib.learn.python.learn.datasets.mnist) is deprecated and will be removed in a future version.\n",
      "Instructions for updating:\n",
      "Please use alternatives such as official/mnist/dataset.py from tensorflow/models.\n",
      "W0825 05:00:29.537243 140348387104640 deprecation.py:323] From /usr/local/lib/python3.6/dist-packages/tensorflow/contrib/learn/python/learn/datasets/mnist.py:260: maybe_download (from tensorflow.contrib.learn.python.learn.datasets.base) is deprecated and will be removed in a future version.\n",
      "Instructions for updating:\n",
      "Please write your own downloading logic.\n",
      "W0825 05:00:29.541200 140348387104640 deprecation.py:323] From /usr/local/lib/python3.6/dist-packages/tensorflow/contrib/learn/python/learn/datasets/mnist.py:262: extract_images (from tensorflow.contrib.learn.python.learn.datasets.mnist) is deprecated and will be removed in a future version.\n",
      "Instructions for updating:\n",
      "Please use tf.data to implement this functionality.\n"
     ]
    },
    {
     "name": "stdout",
     "output_type": "stream",
     "text": [
      "Extracting MNIST_data/train-images-idx3-ubyte.gz\n"
     ]
    },
    {
     "name": "stderr",
     "output_type": "stream",
     "text": [
      "W0825 05:00:31.259292 140348387104640 deprecation.py:323] From /usr/local/lib/python3.6/dist-packages/tensorflow/contrib/learn/python/learn/datasets/mnist.py:267: extract_labels (from tensorflow.contrib.learn.python.learn.datasets.mnist) is deprecated and will be removed in a future version.\n",
      "Instructions for updating:\n",
      "Please use tf.data to implement this functionality.\n"
     ]
    },
    {
     "name": "stdout",
     "output_type": "stream",
     "text": [
      "Extracting MNIST_data/train-labels-idx1-ubyte.gz\n"
     ]
    },
    {
     "name": "stderr",
     "output_type": "stream",
     "text": [
      "W0825 05:00:31.803504 140348387104640 deprecation.py:323] From /usr/local/lib/python3.6/dist-packages/tensorflow/contrib/learn/python/learn/datasets/mnist.py:110: dense_to_one_hot (from tensorflow.contrib.learn.python.learn.datasets.mnist) is deprecated and will be removed in a future version.\n",
      "Instructions for updating:\n",
      "Please use tf.one_hot on tensors.\n"
     ]
    },
    {
     "name": "stdout",
     "output_type": "stream",
     "text": [
      "Extracting MNIST_data/t10k-images-idx3-ubyte.gz\n",
      "Extracting MNIST_data/t10k-labels-idx1-ubyte.gz\n"
     ]
    },
    {
     "name": "stderr",
     "output_type": "stream",
     "text": [
      "W0825 05:00:32.736302 140348387104640 deprecation.py:323] From /usr/local/lib/python3.6/dist-packages/tensorflow/contrib/learn/python/learn/datasets/mnist.py:290: DataSet.__init__ (from tensorflow.contrib.learn.python.learn.datasets.mnist) is deprecated and will be removed in a future version.\n",
      "Instructions for updating:\n",
      "Please use alternatives such as official/mnist/dataset.py from tensorflow/models.\n"
     ]
    },
    {
     "name": "stdout",
     "output_type": "stream",
     "text": [
      "55000 859\n"
     ]
    }
   ],
   "source": [
    "mnist = input_data.read_data_sets('MNIST_data', one_hot=True)\n",
    "batch_size = 64\n",
    "n_batch = mnist.train.num_examples // batch_size\n",
    "print(mnist.train.num_examples, n_batch)    # 55000 859"
   ]
  },
  {
   "cell_type": "code",
   "execution_count": 6,
   "metadata": {
    "colab": {
     "base_uri": "https://localhost:8080/",
     "height": 819
    },
    "colab_type": "code",
    "id": "_ggXCB-9JH9y",
    "outputId": "650e9348-3468-4a13-f401-f420856cfce8"
   },
   "outputs": [
    {
     "name": "stderr",
     "output_type": "stream",
     "text": [
      "W0825 05:02:30.550001 140348387104640 deprecation.py:323] From <ipython-input-6-7337e37605fc>:17: LSTMCell.__init__ (from tensorflow.python.ops.rnn_cell_impl) is deprecated and will be removed in a future version.\n",
      "Instructions for updating:\n",
      "This class is equivalent as tf.keras.layers.LSTMCell, and will be replaced by that in Tensorflow 2.0.\n",
      "W0825 05:02:30.551370 140348387104640 deprecation.py:323] From <ipython-input-6-7337e37605fc>:18: dynamic_rnn (from tensorflow.python.ops.rnn) is deprecated and will be removed in a future version.\n",
      "Instructions for updating:\n",
      "Please use `keras.layers.RNN(cell)`, which is equivalent to this API\n",
      "W0825 05:02:30.625717 140348387104640 deprecation.py:506] From /usr/local/lib/python3.6/dist-packages/tensorflow/python/ops/init_ops.py:1251: calling VarianceScaling.__init__ (from tensorflow.python.ops.init_ops) with dtype is deprecated and will be removed in a future version.\n",
      "Instructions for updating:\n",
      "Call initializer instance with the dtype argument instead of passing it to the constructor\n",
      "W0825 05:02:30.633511 140348387104640 deprecation.py:506] From /usr/local/lib/python3.6/dist-packages/tensorflow/python/ops/rnn_cell_impl.py:961: calling Zeros.__init__ (from tensorflow.python.ops.init_ops) with dtype is deprecated and will be removed in a future version.\n",
      "Instructions for updating:\n",
      "Call initializer instance with the dtype argument instead of passing it to the constructor\n",
      "W0825 05:02:31.236702 140348387104640 deprecation.py:323] From /usr/local/lib/python3.6/dist-packages/tensorflow/python/ops/losses/losses_impl.py:121: add_dispatch_support.<locals>.wrapper (from tensorflow.python.ops.array_ops) is deprecated and will be removed in a future version.\n",
      "Instructions for updating:\n",
      "Use tf.where in 2.0, which has the same broadcast rule as np.where\n"
     ]
    },
    {
     "name": "stdout",
     "output_type": "stream",
     "text": [
      "Epoch 0, test accuracy is 0.9212999939918518\n",
      "Epoch 1, test accuracy is 0.949999988079071\n",
      "Epoch 2, test accuracy is 0.9593999981880188\n",
      "Epoch 3, test accuracy is 0.9660999774932861\n",
      "Epoch 4, test accuracy is 0.9699000120162964\n",
      "Epoch 5, test accuracy is 0.972599983215332\n",
      "Epoch 6, test accuracy is 0.9696999788284302\n",
      "Epoch 7, test accuracy is 0.9804999828338623\n",
      "Epoch 8, test accuracy is 0.9789000153541565\n",
      "Epoch 9, test accuracy is 0.9837999939918518\n",
      "Epoch 10, test accuracy is 0.9814000129699707\n",
      "Epoch 11, test accuracy is 0.977400004863739\n",
      "Epoch 12, test accuracy is 0.9861000180244446\n",
      "Epoch 13, test accuracy is 0.9782999753952026\n",
      "Epoch 14, test accuracy is 0.9882000088691711\n",
      "Epoch 15, test accuracy is 0.9832000136375427\n",
      "Epoch 16, test accuracy is 0.986299991607666\n",
      "Epoch 17, test accuracy is 0.9886999726295471\n",
      "Epoch 18, test accuracy is 0.9858999848365784\n",
      "Epoch 19, test accuracy is 0.9869999885559082\n",
      "Epoch 20, test accuracy is 0.9855999946594238\n",
      "Epoch 21, test accuracy is 0.987500011920929\n",
      "Epoch 22, test accuracy is 0.9866999983787537\n",
      "Epoch 23, test accuracy is 0.9879000186920166\n",
      "Epoch 24, test accuracy is 0.9889000058174133\n",
      "Epoch 25, test accuracy is 0.9871000051498413\n",
      "Epoch 26, test accuracy is 0.9887999892234802\n",
      "Epoch 27, test accuracy is 0.9866999983787537\n",
      "Epoch 28, test accuracy is 0.9854000210762024\n",
      "Epoch 29, test accuracy is 0.987500011920929\n",
      "Epoch 30, test accuracy is 0.9891999959945679\n"
     ]
    }
   ],
   "source": [
    "# 输入图片是28*28\n",
    "n_inputs = 28    # 输入一行（按行输入），一行有28个数据\n",
    "max_time = 28    # max_time是这批数据中最长序列的长度\n",
    "lstm_size = 1000    # 隐层单元，是一个超参数\n",
    "n_classes = 10    # 10个分类\n",
    "\n",
    "x = tf.placeholder(tf.float32, [None, 784])\n",
    "y = tf.placeholder(tf.float32, [None, 10])\n",
    "\n",
    "## 【注意：LSTM只需要输入输出层的参数W_ya即可，其他的参数会自己随机初始化】 ##\n",
    "weights = tf.Variable(tf.truncated_normal([lstm_size, n_classes], stddev=0.1))\n",
    "bias = tf.Variable(tf.constant(0.1, shape=[n_classes]))\n",
    "\n",
    "# 定义RNN网络\n",
    "def RNN(x, weights, bias):\n",
    "    inputs = tf.reshape(x, [-1, max_time, n_inputs])\n",
    "    # 定义LSTM\n",
    "    lstm_cell = tf.nn.rnn_cell.LSTMCell(lstm_size)\n",
    "    outputs, final_state = tf.nn.dynamic_rnn(lstm_cell, inputs, dtype=tf.float32)\n",
    "    ## outputs是一个tensor，如果time_major=True, 则outputs的形状为：[max_time, batch_size, cell.output_size]\n",
    "    ##                      如果time_major=False, 则outputs的形状为：[batch_size, max_time, cell.output_size] 默认为False\n",
    "    ## final_state=[state, batch_size, cell.state_size]\n",
    "    ## final_state[0]是cell state\n",
    "    ## final_state[1]是hidden_state\n",
    "    results = tf.nn.softmax(tf.matmul(final_state[1], weights)+bias)\n",
    "    return results\n",
    "\n",
    "pred = RNN(x, weights, bias)\n",
    "\n",
    "loss = tf.losses.softmax_cross_entropy(y, pred)\n",
    "train = tf.train.AdamOptimizer(0.001).minimize(loss)\n",
    "\n",
    "correct_pred = tf.equal(tf.argmax(y,1), tf.argmax(pred, 1))\n",
    "accuracy = tf.reduce_mean(tf.cast(correct_pred, tf.float32))\n",
    "\n",
    "with tf.Session() as sess:\n",
    "    sess.run(tf.global_variables_initializer())\n",
    "    for epoch in range(31):\n",
    "        for batch in range(n_batch):\n",
    "            batch_xs, batch_ys = mnist.train.next_batch(batch_size)\n",
    "            sess.run(train, feed_dict={x:batch_xs, y:batch_ys})\n",
    "            # print('{}:{}'.format(epoch, batch), end=' ')\n",
    "        acc = sess.run(accuracy, feed_dict={x:mnist.test.images, y:mnist.test.labels})\n",
    "        print('Epoch {}, test accuracy is {}'.format(epoch, acc))"
   ]
  },
  {
   "cell_type": "markdown",
   "metadata": {},
   "source": [
    "与07中用CNN对mnist进行分类对比发现，LSTM循环30个周期的效果仍然赶不上CNN循环20个周期的效果，所以可以看出CNN在处理图像数据时确实有优势。"
   ]
  },
  {
   "cell_type": "code",
   "execution_count": 7,
   "metadata": {
    "colab": {
     "base_uri": "https://localhost:8080/",
     "height": 289
    },
    "colab_type": "code",
    "id": "WL8cxY8aJlfe",
    "outputId": "02aa798a-e6be-4870-fe77-aec0bb1a2825"
   },
   "outputs": [
    {
     "name": "stdout",
     "output_type": "stream",
     "text": [
      "Sun Aug 25 05:19:47 2019       \n",
      "+-----------------------------------------------------------------------------+\n",
      "| NVIDIA-SMI 418.67       Driver Version: 418.67       CUDA Version: 10.1     |\n",
      "|-------------------------------+----------------------+----------------------+\n",
      "| GPU  Name        Persistence-M| Bus-Id        Disp.A | Volatile Uncorr. ECC |\n",
      "| Fan  Temp  Perf  Pwr:Usage/Cap|         Memory-Usage | GPU-Util  Compute M. |\n",
      "|===============================+======================+======================|\n",
      "|   0  Tesla T4            Off  | 00000000:00:04.0 Off |                    0 |\n",
      "| N/A   58C    P0    27W /  70W |   1313MiB / 15079MiB |      0%      Default |\n",
      "+-------------------------------+----------------------+----------------------+\n",
      "                                                                               \n",
      "+-----------------------------------------------------------------------------+\n",
      "| Processes:                                                       GPU Memory |\n",
      "|  GPU       PID   Type   Process name                             Usage      |\n",
      "|=============================================================================|\n",
      "+-----------------------------------------------------------------------------+\n"
     ]
    }
   ],
   "source": [
    "!/opt/bin/nvidia-smi"
   ]
  },
  {
   "cell_type": "code",
   "execution_count": 0,
   "metadata": {
    "colab": {},
    "colab_type": "code",
    "id": "vn7bj46NNiTn"
   },
   "outputs": [],
   "source": []
  }
 ],
 "metadata": {
  "accelerator": "GPU",
  "colab": {
   "name": "08用循环神经网络的LSTM对mnist数据集进行分类.ipynb",
   "provenance": [],
   "version": "0.3.2"
  },
  "kernelspec": {
   "display_name": "Python 3",
   "language": "python",
   "name": "python3"
  },
  "language_info": {
   "codemirror_mode": {
    "name": "ipython",
    "version": 3
   },
   "file_extension": ".py",
   "mimetype": "text/x-python",
   "name": "python",
   "nbconvert_exporter": "python",
   "pygments_lexer": "ipython3",
   "version": "3.6.4"
  }
 },
 "nbformat": 4,
 "nbformat_minor": 1
}
