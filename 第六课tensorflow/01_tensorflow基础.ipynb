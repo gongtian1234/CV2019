{
 "cells": [
  {
   "cell_type": "markdown",
   "metadata": {},
   "source": [
    "### Tensorflow的基本概念\n",
    "图(graph)--->会话(Session)"
   ]
  },
  {
   "cell_type": "code",
   "execution_count": 1,
   "metadata": {},
   "outputs": [],
   "source": [
    "import numpy as np\n",
    "import tensorflow as tf"
   ]
  },
  {
   "cell_type": "markdown",
   "metadata": {},
   "source": [
    "#### 1、基本命令流程\n",
    "创建和启动会话。"
   ]
  },
  {
   "cell_type": "code",
   "execution_count": 2,
   "metadata": {},
   "outputs": [
    {
     "name": "stdout",
     "output_type": "stream",
     "text": [
      "[[11]]\n"
     ]
    }
   ],
   "source": [
    "a = tf.constant([[1, 2]])    # 创建常量\n",
    "b = tf.constant([[3], [4]])\n",
    "mat = tf.matmul(a, b)\n",
    "\n",
    "with tf.Session() as sess:\n",
    "    print(sess.run(mat))"
   ]
  },
  {
   "cell_type": "markdown",
   "metadata": {},
   "source": [
    "#### 2、变量的使用（变量：值能够在后面的运行中变化，常量不行）\n",
    "注意：变量需要进行初始化"
   ]
  },
  {
   "cell_type": "code",
   "execution_count": 6,
   "metadata": {
    "scrolled": false
   },
   "outputs": [
    {
     "name": "stdout",
     "output_type": "stream",
     "text": [
      "[5 8]\n"
     ]
    }
   ],
   "source": [
    "a = tf.Variable([3,3])\n",
    "b = tf.Variable([2,5])\n",
    "add = tf.add(a, b)\n",
    "init = tf.global_variables_initializer()\n",
    "with tf.Session() as sess:\n",
    "    sess.run(init)\n",
    "    print(sess.run(add))"
   ]
  },
  {
   "cell_type": "markdown",
   "metadata": {},
   "source": [
    "### 3、fetch和feed的应用\n",
    "fetch: fetch只要在sess.run()中加个[]就可以同时执行多个操作；  \n",
    "feed: feed用于给tf.placeholder()喂入数据"
   ]
  },
  {
   "cell_type": "code",
   "execution_count": 13,
   "metadata": {},
   "outputs": [
    {
     "name": "stdout",
     "output_type": "stream",
     "text": [
      "[5.0, -1.0]\n"
     ]
    }
   ],
   "source": [
    "# 1、fetch举例\n",
    "a = tf.constant(2.0)\n",
    "b = tf.constant(3.0)\n",
    "add = tf.add(a,b)\n",
    "sub = tf.subtract(a,b)\n",
    "# init = tf.global_variables_initilizer()\n",
    "with tf.Session() as sess:\n",
    "#     sess.run(init)\n",
    "    print(sess.run([add, sub]))"
   ]
  },
  {
   "cell_type": "code",
   "execution_count": 14,
   "metadata": {},
   "outputs": [
    {
     "name": "stdout",
     "output_type": "stream",
     "text": [
      "12.0\n"
     ]
    }
   ],
   "source": [
    "# 2、feed举例\n",
    "a = tf.placeholder(tf.float32)\n",
    "b = tf.placeholder(tf.float32)\n",
    "add = tf.add(a, b)\n",
    "with tf.Session() as sess:\n",
    "    print(sess.run(add, feed_dict={a: 1.0, b: 11.0}))"
   ]
  }
 ],
 "metadata": {
  "kernelspec": {
   "display_name": "Python 3",
   "language": "python",
   "name": "python3"
  },
  "language_info": {
   "codemirror_mode": {
    "name": "ipython",
    "version": 3
   },
   "file_extension": ".py",
   "mimetype": "text/x-python",
   "name": "python",
   "nbconvert_exporter": "python",
   "pygments_lexer": "ipython3",
   "version": "3.6.4"
  }
 },
 "nbformat": 4,
 "nbformat_minor": 2
}
