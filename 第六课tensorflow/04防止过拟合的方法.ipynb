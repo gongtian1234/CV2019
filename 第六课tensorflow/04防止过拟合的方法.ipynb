{
 "cells": [
  {
   "cell_type": "markdown",
   "metadata": {},
   "source": [
    "### 防止过拟合\n",
    "有4中方法：  \n",
    "1. 正则化  \n",
    "2. Dropout(失活性正则化)  \n",
    "3. Early stopping: 缺点是不能同时解决J最小和no overfitting  \n",
    "4. 增大数据集"
   ]
  },
  {
   "cell_type": "code",
   "execution_count": 2,
   "metadata": {},
   "outputs": [],
   "source": [
    "# 仍然以mnist数据集为例\n",
    "import tensorflow as tf\n",
    "from tensorflow.examples.tutorials.mnist import input_data\n",
    "import warnings\n",
    "warnings.filterwarnings('ignore')"
   ]
  },
  {
   "cell_type": "markdown",
   "metadata": {},
   "source": [
    "#### 1 先用Dropout进行过拟合处理"
   ]
  },
  {
   "cell_type": "code",
   "execution_count": 3,
   "metadata": {},
   "outputs": [
    {
     "name": "stdout",
     "output_type": "stream",
     "text": [
      "WARNING:tensorflow:From <ipython-input-3-6ecc07c20ed6>:1: read_data_sets (from tensorflow.contrib.learn.python.learn.datasets.mnist) is deprecated and will be removed in a future version.\n",
      "Instructions for updating:\n",
      "Please use alternatives such as official/mnist/dataset.py from tensorflow/models.\n",
      "WARNING:tensorflow:From c:\\users\\kljdgf\\appdata\\local\\programs\\python\\python36\\lib\\site-packages\\tensorflow\\contrib\\learn\\python\\learn\\datasets\\mnist.py:260: maybe_download (from tensorflow.contrib.learn.python.learn.datasets.base) is deprecated and will be removed in a future version.\n",
      "Instructions for updating:\n",
      "Please write your own downloading logic.\n",
      "WARNING:tensorflow:From c:\\users\\kljdgf\\appdata\\local\\programs\\python\\python36\\lib\\site-packages\\tensorflow\\contrib\\learn\\python\\learn\\datasets\\mnist.py:262: extract_images (from tensorflow.contrib.learn.python.learn.datasets.mnist) is deprecated and will be removed in a future version.\n",
      "Instructions for updating:\n",
      "Please use tf.data to implement this functionality.\n",
      "Extracting MNIST_data\\train-images-idx3-ubyte.gz\n",
      "WARNING:tensorflow:From c:\\users\\kljdgf\\appdata\\local\\programs\\python\\python36\\lib\\site-packages\\tensorflow\\contrib\\learn\\python\\learn\\datasets\\mnist.py:267: extract_labels (from tensorflow.contrib.learn.python.learn.datasets.mnist) is deprecated and will be removed in a future version.\n",
      "Instructions for updating:\n",
      "Please use tf.data to implement this functionality.\n",
      "Extracting MNIST_data\\train-labels-idx1-ubyte.gz\n",
      "WARNING:tensorflow:From c:\\users\\kljdgf\\appdata\\local\\programs\\python\\python36\\lib\\site-packages\\tensorflow\\contrib\\learn\\python\\learn\\datasets\\mnist.py:110: dense_to_one_hot (from tensorflow.contrib.learn.python.learn.datasets.mnist) is deprecated and will be removed in a future version.\n",
      "Instructions for updating:\n",
      "Please use tf.one_hot on tensors.\n",
      "Extracting MNIST_data\\t10k-images-idx3-ubyte.gz\n",
      "Extracting MNIST_data\\t10k-labels-idx1-ubyte.gz\n",
      "WARNING:tensorflow:From c:\\users\\kljdgf\\appdata\\local\\programs\\python\\python36\\lib\\site-packages\\tensorflow\\contrib\\learn\\python\\learn\\datasets\\mnist.py:290: DataSet.__init__ (from tensorflow.contrib.learn.python.learn.datasets.mnist) is deprecated and will be removed in a future version.\n",
      "Instructions for updating:\n",
      "Please use alternatives such as official/mnist/dataset.py from tensorflow/models.\n",
      "Epoch 0, test accuracy is 0.7034000158309937\n",
      "Epoch 1, test accuracy is 0.7491000294685364\n",
      "Epoch 2, test accuracy is 0.8011999726295471\n",
      "Epoch 3, test accuracy is 0.8361999988555908\n",
      "Epoch 4, test accuracy is 0.8402000069618225\n",
      "Epoch 5, test accuracy is 0.8526999950408936\n",
      "Epoch 6, test accuracy is 0.8592000007629395\n",
      "Epoch 7, test accuracy is 0.8769999742507935\n",
      "Epoch 8, test accuracy is 0.8743000030517578\n",
      "Epoch 9, test accuracy is 0.8787999749183655\n",
      "Epoch 10, test accuracy is 0.8813999891281128\n",
      "Epoch 11, test accuracy is 0.8898000121116638\n",
      "Epoch 12, test accuracy is 0.8863999843597412\n",
      "Epoch 13, test accuracy is 0.8920000195503235\n",
      "Epoch 14, test accuracy is 0.8949999809265137\n",
      "Epoch 15, test accuracy is 0.8959000110626221\n",
      "Epoch 16, test accuracy is 0.892300009727478\n",
      "Epoch 17, test accuracy is 0.8973000049591064\n",
      "Epoch 18, test accuracy is 0.8944000005722046\n",
      "Epoch 19, test accuracy is 0.8989999890327454\n",
      "Epoch 20, test accuracy is 0.9057999849319458\n"
     ]
    }
   ],
   "source": [
    "mnist = input_data.read_data_sets('MNIST_data', one_hot=True)\n",
    "batch_size = 64\n",
    "n_batch = mnist.train.num_examples // batch_size\n",
    "# 先定义3个占位符\n",
    "x = tf.placeholder(tf.float32, [None, 784])\n",
    "y = tf.placeholder(tf.float32, [None, 10])\n",
    "keep_prob = tf.placeholder(tf.float32)\n",
    "# 构建一个784-1000-500-10的神经网络\n",
    "w1 = tf.Variable(tf.truncated_normal([784,1000], stddev=0.1))\n",
    "b1 = tf.Variable(tf.zeros([1000])+0.1)\n",
    "z1 = tf.matmul(x, w1) + b1\n",
    "a1 = tf.nn.tanh(z1)\n",
    "# 使用dropout正则化\n",
    "a1_drop = tf.nn.dropout(a1, keep_prob)\n",
    "\n",
    "w2 = tf.Variable(tf.truncated_normal([1000,500]))\n",
    "b2 = tf.Variable(tf.zeros([500])+0.01)\n",
    "a2 = tf.nn.tanh(tf.matmul(a1_drop, w2)+b2)\n",
    "a2_drop = tf.nn.dropout(a2, keep_prob)\n",
    "\n",
    "w3 = tf.Variable(tf.truncated_normal([500,10]))\n",
    "b3 = tf.Variable(tf.zeros([10])+0.01)\n",
    "a3 = tf.nn.softmax(tf.matmul(a2_drop, w3)+b3)\n",
    "\n",
    "loss = tf.losses.softmax_cross_entropy(y, a3)\n",
    "train = tf.train.GradientDescentOptimizer(0.3).minimize(loss)\n",
    "corrent_pred = tf.equal(tf.argmax(y,1), tf.argmax(a3,1))\n",
    "accuracy = tf.reduce_mean(tf.cast(corrent_pred, tf.float32))\n",
    "with tf.Session() as sess:\n",
    "    sess.run(tf.global_variables_initializer())\n",
    "    for epoch in range(21):\n",
    "        for batch in range(n_batch):\n",
    "            batch_xs, batch_ys = mnist.train.next_batch(batch_size)\n",
    "            sess.run(train, feed_dict={x:batch_xs, y:batch_ys, keep_prob:0.8})\n",
    "        acc = sess.run(accuracy, feed_dict={x:mnist.test.images,y:mnist.test.labels, keep_prob:0.8})\n",
    "        print('Epoch {}, test accuracy is {}'.format(epoch, acc))"
   ]
  },
  {
   "cell_type": "markdown",
   "metadata": {},
   "source": [
    "#### 2 用正则化进行过拟合处理"
   ]
  },
  {
   "cell_type": "code",
   "execution_count": 3,
   "metadata": {},
   "outputs": [
    {
     "name": "stdout",
     "output_type": "stream",
     "text": [
      "WARNING:tensorflow:From <ipython-input-3-fcdd8e3743ca>:1: read_data_sets (from tensorflow.contrib.learn.python.learn.datasets.mnist) is deprecated and will be removed in a future version.\n",
      "Instructions for updating:\n",
      "Please use alternatives such as official/mnist/dataset.py from tensorflow/models.\n",
      "WARNING:tensorflow:From c:\\users\\kljdgf\\appdata\\local\\programs\\python\\python36\\lib\\site-packages\\tensorflow\\contrib\\learn\\python\\learn\\datasets\\mnist.py:260: maybe_download (from tensorflow.contrib.learn.python.learn.datasets.base) is deprecated and will be removed in a future version.\n",
      "Instructions for updating:\n",
      "Please write your own downloading logic.\n",
      "WARNING:tensorflow:From c:\\users\\kljdgf\\appdata\\local\\programs\\python\\python36\\lib\\site-packages\\tensorflow\\contrib\\learn\\python\\learn\\datasets\\mnist.py:262: extract_images (from tensorflow.contrib.learn.python.learn.datasets.mnist) is deprecated and will be removed in a future version.\n",
      "Instructions for updating:\n",
      "Please use tf.data to implement this functionality.\n",
      "Extracting MNIST_data\\train-images-idx3-ubyte.gz\n",
      "WARNING:tensorflow:From c:\\users\\kljdgf\\appdata\\local\\programs\\python\\python36\\lib\\site-packages\\tensorflow\\contrib\\learn\\python\\learn\\datasets\\mnist.py:267: extract_labels (from tensorflow.contrib.learn.python.learn.datasets.mnist) is deprecated and will be removed in a future version.\n",
      "Instructions for updating:\n",
      "Please use tf.data to implement this functionality.\n",
      "Extracting MNIST_data\\train-labels-idx1-ubyte.gz\n",
      "WARNING:tensorflow:From c:\\users\\kljdgf\\appdata\\local\\programs\\python\\python36\\lib\\site-packages\\tensorflow\\contrib\\learn\\python\\learn\\datasets\\mnist.py:110: dense_to_one_hot (from tensorflow.contrib.learn.python.learn.datasets.mnist) is deprecated and will be removed in a future version.\n",
      "Instructions for updating:\n",
      "Please use tf.one_hot on tensors.\n",
      "Extracting MNIST_data\\t10k-images-idx3-ubyte.gz\n",
      "Extracting MNIST_data\\t10k-labels-idx1-ubyte.gz\n",
      "WARNING:tensorflow:From c:\\users\\kljdgf\\appdata\\local\\programs\\python\\python36\\lib\\site-packages\\tensorflow\\contrib\\learn\\python\\learn\\datasets\\mnist.py:290: DataSet.__init__ (from tensorflow.contrib.learn.python.learn.datasets.mnist) is deprecated and will be removed in a future version.\n",
      "Instructions for updating:\n",
      "Please use alternatives such as official/mnist/dataset.py from tensorflow/models.\n",
      "Epoch 0, test accuracy is 0.9383999705314636\n",
      "Epoch 1, test accuracy is 0.9473999738693237\n",
      "Epoch 2, test accuracy is 0.9531000256538391\n",
      "Epoch 3, test accuracy is 0.9585999846458435\n",
      "Epoch 4, test accuracy is 0.9607999920845032\n",
      "Epoch 5, test accuracy is 0.9599999785423279\n",
      "Epoch 6, test accuracy is 0.9638000130653381\n",
      "Epoch 7, test accuracy is 0.9656000137329102\n",
      "Epoch 8, test accuracy is 0.9650999903678894\n",
      "Epoch 9, test accuracy is 0.964900016784668\n",
      "Epoch 10, test accuracy is 0.9667999744415283\n",
      "Epoch 11, test accuracy is 0.9672999978065491\n",
      "Epoch 12, test accuracy is 0.9672999978065491\n",
      "Epoch 13, test accuracy is 0.9674999713897705\n",
      "Epoch 14, test accuracy is 0.9678000211715698\n",
      "Epoch 15, test accuracy is 0.9692000150680542\n",
      "Epoch 16, test accuracy is 0.9678999781608582\n",
      "Epoch 17, test accuracy is 0.9684000015258789\n",
      "Epoch 18, test accuracy is 0.967199981212616\n",
      "Epoch 19, test accuracy is 0.9689000248908997\n",
      "Epoch 20, test accuracy is 0.9674000144004822\n"
     ]
    }
   ],
   "source": [
    "mnist = input_data.read_data_sets('MNIST_data', one_hot=True)\n",
    "batch_size = 128\n",
    "n_batch = mnist.train.num_examples // batch_size\n",
    "x = tf.placeholder(tf.float32, [None, 784])\n",
    "y = tf.placeholder(tf.float32, [None, 10])\n",
    "keep_prob = tf.placeholder(tf.float32)\n",
    "\n",
    "# 构建一个784-1000-500-10的神经网络\n",
    "w1 = tf.Variable(tf.truncated_normal([784,1000], stddev=0.1))\n",
    "b1 = tf.Variable(tf.zeros([1000])+0.1)\n",
    "a1 = tf.nn.tanh(tf.matmul(x,w1)+b1)\n",
    "a1_drop = tf.nn.dropout(a1, keep_prob)\n",
    "\n",
    "w2 = tf.Variable(tf.truncated_normal([1000,500], stddev=0.1))\n",
    "b2 = tf.Variable(tf.zeros([500])+0.1)\n",
    "a2 = tf.nn.tanh(tf.matmul(a1_drop, w2)+b2)\n",
    "a2_drop = tf.nn.dropout(a2, keep_prob)\n",
    "\n",
    "w3 = tf.Variable(tf.truncated_normal([500,10], stddev=0.1))\n",
    "b3 = tf.Variable(tf.zeros([10])+0.1)\n",
    "pred = tf.nn.softmax(tf.matmul(a2_drop, w3)+b3)\n",
    "\n",
    "# 正则化项\n",
    "l2_loss = tf.nn.l2_loss(w1) + tf.nn.l2_loss(b1) + \\\n",
    "            tf.nn.l2_loss(w2) + tf.nn.l2_loss(b2) + \\\n",
    "            tf.nn.l2_loss(w3) + tf.nn.l2_loss(b3)\n",
    "loss = tf.losses.softmax_cross_entropy(y, pred) + 0.0005*l2_loss\n",
    "# loss = tf.losses.softmax_cross_entropy(y, pred)\n",
    "train = tf.train.GradientDescentOptimizer(0.3).minimize(loss)\n",
    "\n",
    "corrent_pred = tf.equal(tf.argmax(y,1), tf.argmax(pred,1))\n",
    "accuracy = tf.reduce_mean(tf.cast(corrent_pred, tf.float32))\n",
    "\n",
    "with tf.Session() as sess:\n",
    "    sess.run(tf.global_variables_initializer())\n",
    "    for epoch in range(21):\n",
    "        for batch in range(n_batch):\n",
    "            batch_xs, batch_ys = mnist.train.next_batch(batch_size)\n",
    "            sess.run(train, feed_dict={x:batch_xs, y:batch_ys, keep_prob:1.0})\n",
    "        acc = sess.run(accuracy, feed_dict={x:mnist.test.images, y: mnist.test.labels, keep_prob:1.0})\n",
    "        print('Epoch {}, test accuracy is {}'.format(epoch, acc))"
   ]
  },
  {
   "cell_type": "markdown",
   "metadata": {},
   "source": [
    "对比发现正则化的效果没有Dropout的效果好，说明正则化更适用于深层的网络"
   ]
  },
  {
   "cell_type": "markdown",
   "metadata": {},
   "source": [
    "本文亮点：  \n",
    "①过拟合处理方式，有四种：  \n",
    "1. 正则化；  \n",
    "2. Dropout(失活性处理)；  \n",
    "3. early stopping：缺点是不能同时解决J最小和no overfitting;   \n",
    "4. 增大数据集；  \n",
    "\n",
    "代码如下：\n",
    "    \n",
    "    # 正则化\n",
    "    ## 在所有层都结束后执行\n",
    "    l2_loss = tf.nn.l2_loss(w1)+tf.nn.l2_loss(b1)+tf.nn.l2_loss(w2)+tf.nn.l2_loss(b2)+……\n",
    "    loss = tf.losses.softmax(y, pred) + 0.0005*l2_loss\n",
    "    \n",
    "    # Dropout\n",
    "    keep_prob = tf.placeholder(tf.float32)\n",
    "    ## 每一层后都执行\n",
    "    ai_drop = tf.nn.dropout(ai. keep_prob)\n",
    "    \n",
    "根据结果发现，正则化更适用于深层次神经网络。"
   ]
  },
  {
   "cell_type": "code",
   "execution_count": null,
   "metadata": {},
   "outputs": [],
   "source": []
  }
 ],
 "metadata": {
  "kernelspec": {
   "display_name": "Python 3",
   "language": "python",
   "name": "python3"
  },
  "language_info": {
   "codemirror_mode": {
    "name": "ipython",
    "version": 3
   },
   "file_extension": ".py",
   "mimetype": "text/x-python",
   "name": "python",
   "nbconvert_exporter": "python",
   "pygments_lexer": "ipython3",
   "version": "3.6.4"
  }
 },
 "nbformat": 4,
 "nbformat_minor": 2
}
