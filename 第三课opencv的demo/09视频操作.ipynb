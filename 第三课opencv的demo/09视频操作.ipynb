{
 "cells": [
  {
   "cell_type": "code",
   "execution_count": 4,
   "metadata": {},
   "outputs": [],
   "source": [
    "import numpy as np\n",
    "import cv2"
   ]
  },
  {
   "cell_type": "markdown",
   "metadata": {},
   "source": [
    "### 1、摄像头读取"
   ]
  },
  {
   "cell_type": "code",
   "execution_count": 5,
   "metadata": {},
   "outputs": [],
   "source": [
    "cap = cv2.VideoCapture(0)    # 0是从摄像头获取视频\n",
    "while True:\n",
    "    ret, frame = cap.read()    \n",
    "    ## ret: 是否成功读取，成功True，失败False; frame: 读取到的一帧图像内容\n",
    "    gray = cv2.cvtColor(frame, cv2.COLOR_BGR2GRAY)\n",
    "    cv2.imshow('frame', gray)\n",
    "    if cv2.waitKey(1) & 0xff==ord('q'):\n",
    "        ## cv2.waitKey(): 不断刷新图像，单位为ms，返回值是键盘按键值\n",
    "        ## ord: 返回对应的ASCII码值\n",
    "        break\n",
    "cap.release()\n",
    "cv2.destroyAllWindows()    # 关闭所打开的窗口"
   ]
  },
  {
   "cell_type": "markdown",
   "metadata": {},
   "source": [
    "#### cap.read()的一些操作：\n",
    "cap.read()返回一个布尔值（True/False）。如果帧读取的是正确的，就是True。所以最后你可以通过检查他的返回值来查看视频文件是否已经到了结尾。  \n",
    "有时cap可能不能成功的初始化摄像头设备。这种情况下上面的代码会报错。你可以使用 cap.isOpened()，来检查是否成功初始化了。如果返回值是True，那就没有问题。否则就要使用函数cap.open()。  \n",
    "你可以使用函数cap.get(propId)来获得视频的一些参数信息。这里propId可以是0到18之间的任何整数。每一个数代表视频的一个属性。 \n",
    "<center><img src=\"pic/propId.png\" alt=\"FAO\" width=\"600\"></center>\n",
    "其中的一些值可以使用cap.set(propId,value)来修改，value就是你想要设置成的新值。  \n",
    "例如，我可以使用cap.get(3)和cap.get(4)来查看每一帧的宽和高。默认情况下得到的值是640X480。但是我们可以使用ret=cap.set(3,320)和ret=cap.set(4,240)来把宽和高改成320X240。  "
   ]
  },
  {
   "cell_type": "markdown",
   "metadata": {},
   "source": [
    "### 2、从视频文件中读取内容并显示"
   ]
  },
  {
   "cell_type": "code",
   "execution_count": 9,
   "metadata": {},
   "outputs": [
    {
     "name": "stdout",
     "output_type": "stream",
     "text": [
      "帧数为30.0 \n",
      "图像的宽度为568 \n",
      "图像的高度为320\n"
     ]
    }
   ],
   "source": [
    "cap = cv2.VideoCapture('./image/cat.avi')\n",
    "fps = cap.get(cv2.CAP_PROP_FPS)    # 获取视频每秒的传输帧数\n",
    "frame_width = int(cap.get(cv2.CAP_PROP_FRAME_WIDTH))    # 视频图像的宽度\n",
    "frame_height = int(cap.get(cv2.CAP_PROP_FRAME_HEIGHT))    # 视频图像的高度\n",
    "print('帧数为'+str(fps), '\\n图像的宽度为'+str(frame_width), '\\n图像的高度为'+str(frame_height))\n",
    "while True:\n",
    "    ret, frame = cap.read()\n",
    "    if ret!=True:    # 当视频读取结束是ret为False，会自动关闭视频窗口\n",
    "        break\n",
    "    cv2.imshow('frame', frame)\n",
    "    if cv2.waitKey(30) & 0xff==ord('q'):\n",
    "        break\n",
    "cap.release()\n",
    "cv2.destroyAllWindows()"
   ]
  },
  {
   "cell_type": "markdown",
   "metadata": {},
   "source": [
    "### 3、视频写入"
   ]
  },
  {
   "cell_type": "code",
   "execution_count": 17,
   "metadata": {},
   "outputs": [
    {
     "name": "stdout",
     "output_type": "stream",
     "text": [
      "帧数为30 \n",
      "图像的宽度为568 \n",
      "图像的高度为320\n"
     ]
    }
   ],
   "source": [
    "cap = cv2.VideoCapture('./image/cat.avi')\n",
    "# cap = cv2.VideoCapture(0)    # 从摄像头读取内容\n",
    "fps = int(cap.get(cv2.CAP_PROP_FPS))\n",
    "frame_width = int(cap.get(cv2.CAP_PROP_FRAME_WIDTH))\n",
    "frame_height = int(cap.get(cv2.CAP_PROP_FRAME_HEIGHT))\n",
    "print('帧数为'+str(fps), '\\n图像的宽度为'+str(frame_width), '\\n图像的高度为'+str(frame_height))\n",
    "\n",
    "# 视频写入的命令\n",
    "fource = cv2.VideoWriter_fourcc(*'XVID')\n",
    "out = cv2.VideoWriter('./image/output.avi', fource, fps, (frame_width, frame_height))\n",
    "while True:\n",
    "    ret, frame = cap.read()\n",
    "    if ret!=True:\n",
    "        break\n",
    "    # 进行水平翻转\n",
    "    frame = cv2.flip(frame, 1)\n",
    "    out.write(frame)\n",
    "    cv2.imshow('frame', frame)\n",
    "    if cv2.waitKey(30) & 0xff==ord('q'):\n",
    "        break\n",
    "cap.release()\n",
    "out.release()\n",
    "cv2.destroyAllWindows()"
   ]
  },
  {
   "cell_type": "code",
   "execution_count": null,
   "metadata": {},
   "outputs": [],
   "source": []
  }
 ],
 "metadata": {
  "kernelspec": {
   "display_name": "Python 3",
   "language": "python",
   "name": "python3"
  },
  "language_info": {
   "codemirror_mode": {
    "name": "ipython",
    "version": 3
   },
   "file_extension": ".py",
   "mimetype": "text/x-python",
   "name": "python",
   "nbconvert_exporter": "python",
   "pygments_lexer": "ipython3",
   "version": "3.6.4"
  }
 },
 "nbformat": 4,
 "nbformat_minor": 2
}
