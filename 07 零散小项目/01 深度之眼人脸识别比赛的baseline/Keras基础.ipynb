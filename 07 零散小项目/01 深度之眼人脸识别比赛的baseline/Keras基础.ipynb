{
 "cells": [
  {
   "cell_type": "markdown",
   "metadata": {},
   "source": [
    "# Keras基础\n"
   ]
  },
  {
   "cell_type": "markdown",
   "metadata": {},
   "source": [
    "## 一、什么是Keras\n",
    "\n",
    "<img src=\"keras.jpeg\" style=\"zoom:50%\" >\n",
    "\n",
    "Keras是一个高层神经网络API，Keras由纯Python编写而成并基Tensorflow、Theano以及CNTK后端。Keras 为支持快速实验而生，能够把你的idea迅速转换为结果，keras的基本特点：\n",
    "\n",
    "1. 简易和快速的原型设计（keras具有高度模块化，极简，和可扩充特性）\n",
    "2. 支持CNN和RNN，或二者的结合\n",
    "3. 无缝CPU和GPU切换\n",
    "\n",
    ">注意：Keras适用的Python版本是：Python 2.7-3.6\n",
    "\n",
    "在这里我们使用tensorflow作为keras的后端，实际上tensorflow已经将keras集成进了tensorflow中，所以keras可以看作是tensorflow的一个高阶API。\n",
    "\n",
    "---"
   ]
  },
  {
   "cell_type": "code",
   "execution_count": 1,
   "metadata": {},
   "outputs": [],
   "source": [
    "from tensorflow.python import keras\n",
    "import tensorflow as tf"
   ]
  },
  {
   "cell_type": "markdown",
   "metadata": {},
   "source": [
    "---\n",
    "\n",
    "### 二、Keras的重要API\n",
    "\n",
    "Keras的API主要可以分为以下几类：\n",
    "\n",
    "`layers`:主要涉及神经网络的一些构件，如全连接，卷积，最大池化等。\n",
    "\n",
    "`activations`:主要涉及神经网络的常用激活函数。\n",
    "\n",
    "`losses`:主要涉及一些常用的损失函数。\n",
    "\n",
    "`metrics`:主要涉及常用的模型评估方法。\n",
    "\n",
    "`optimizers`:主要涉及常用的优化方法。\n",
    "\n",
    "`models`:主要涉及模型的组装，模型的保存，模型的加载。\n",
    "\n",
    "`backend`: 主要涉及更底层的一些操作，如张量的操作。\n",
    "\n",
    "`callbacks`:主要涉及一些回调函数的操作。如模型的保存，模型的可视化。\n",
    "\n",
    "---\n",
    "\n",
    "使用Keras建立神经网络主要包含三个步骤：\n",
    "\n",
    "1. 准备数据。\n",
    "2. 搭建神经网络结构。\n",
    "3. 编译模型（确定损失函数、优化方法和回调函数）。\n",
    "4. 训练模型。"
   ]
  },
  {
   "cell_type": "code",
   "execution_count": 5,
   "metadata": {},
   "outputs": [
    {
     "name": "stdout",
     "output_type": "stream",
     "text": [
      "Tensor(\"input_11:0\", shape=(?, 28), dtype=float32)\n",
      "Tensor(\"input_12:0\", shape=(?, 56), dtype=float32)\n",
      "Tensor(\"concatenate_3/concat:0\", shape=(?, 84), dtype=float32)\n"
     ]
    }
   ],
   "source": [
    "## layers相关API\n",
    "input_tensor = keras.layers.Input(shape=(784,))\n",
    "\n",
    "keras.layers.Dense(units=10,activation=keras.activations.relu,use_bias=True)\n",
    "\n",
    "keras.layers.Softmax(axis=-1)(input_tensor)\n",
    "\n",
    "keras.layers.Flatten()\n",
    "\n",
    "a = keras.layers.Input(shape=(28,))\n",
    "print(a)\n",
    "b = keras.layers.Input(shape=(56,))\n",
    "print(b)\n",
    "c= keras.layers.concatenate([a,b],axis=-1)\n",
    "print(c)"
   ]
  },
  {
   "cell_type": "code",
   "execution_count": 9,
   "metadata": {},
   "outputs": [
    {
     "data": {
      "text/plain": [
       "<function tensorflow.python.keras.activations.tanh(x)>"
      ]
     },
     "execution_count": 9,
     "metadata": {},
     "output_type": "execute_result"
    }
   ],
   "source": [
    "## activations相关API\n",
    "keras.activations.relu\n",
    "keras.activations.sigmoid\n",
    "keras.activations.tanh"
   ]
  },
  {
   "cell_type": "code",
   "execution_count": 24,
   "metadata": {},
   "outputs": [
    {
     "data": {
      "text/plain": [
       "<function tensorflow.python.keras.losses.mean_squared_error(y_true, y_pred)>"
      ]
     },
     "execution_count": 24,
     "metadata": {},
     "output_type": "execute_result"
    }
   ],
   "source": [
    "## losses相关API\n",
    "keras.losses.categorical_crossentropy\n",
    "keras.losses.sparse_categorical_crossentropy\n",
    "keras.losses.mean_squared_error\n",
    "keras.losses.mean_absolute_error\n",
    "keras.losses.logcosh()"
   ]
  },
  {
   "cell_type": "code",
   "execution_count": 27,
   "metadata": {},
   "outputs": [
    {
     "data": {
      "text/plain": [
       "<tensorflow.python.keras.metrics.Recall at 0xb3e9ae470>"
      ]
     },
     "execution_count": 27,
     "metadata": {},
     "output_type": "execute_result"
    }
   ],
   "source": [
    "## metric相关API\n",
    "keras.metrics.accuracy\n",
    "keras.metrics.sparse_top_k_categorical_accuracy\n",
    "keras.metrics.Precision()\n",
    "keras.metrics.Recall()"
   ]
  },
  {
   "cell_type": "code",
   "execution_count": 10,
   "metadata": {},
   "outputs": [
    {
     "name": "stdout",
     "output_type": "stream",
     "text": [
      "WARNING:tensorflow:From /Users/wanjun/anaconda/envs/python36/lib/python3.6/site-packages/tensorflow/python/ops/resource_variable_ops.py:435: colocate_with (from tensorflow.python.framework.ops) is deprecated and will be removed in a future version.\n",
      "Instructions for updating:\n",
      "Colocations handled automatically by placer.\n"
     ]
    },
    {
     "data": {
      "text/plain": [
       "<tensorflow.python.keras.optimizers.Adam at 0xb377ee278>"
      ]
     },
     "execution_count": 10,
     "metadata": {},
     "output_type": "execute_result"
    }
   ],
   "source": [
    "## optimizers相关API\n",
    "keras.optimizers.SGD()\n",
    "keras.optimizers.RMSprop()\n",
    "keras.optimizers.Adam()"
   ]
  },
  {
   "cell_type": "code",
   "execution_count": 6,
   "metadata": {},
   "outputs": [
    {
     "name": "stdout",
     "output_type": "stream",
     "text": [
      "WARNING:tensorflow:From /Users/wanjun/anaconda/envs/python36/lib/python3.6/site-packages/tensorflow/python/ops/resource_variable_ops.py:435: colocate_with (from tensorflow.python.framework.ops) is deprecated and will be removed in a future version.\n",
      "Instructions for updating:\n",
      "Colocations handled automatically by placer.\n",
      "(None, 10)\n",
      "WARNING:tensorflow:From /Users/wanjun/anaconda/envs/python36/lib/python3.6/site-packages/tensorflow/python/keras/utils/losses_utils.py:170: to_float (from tensorflow.python.ops.math_ops) is deprecated and will be removed in a future version.\n",
      "Instructions for updating:\n",
      "Use tf.cast instead.\n"
     ]
    }
   ],
   "source": [
    "## models相关API\n",
    "# Sequential API\n",
    "model = keras.models.Sequential([keras.layers.Dense(30, activation=\"relu\",input_shape=[10]),keras.layers.Dense(1)])\n",
    "print(model.input_shape)\n",
    "model.compile(loss=\"mean_squared_error\", optimizer=\"sgd\")"
   ]
  },
  {
   "cell_type": "markdown",
   "metadata": {},
   "source": [
    "---\n",
    "<img src=\"structure1.png\" style=\"zoom:20%\" >"
   ]
  },
  {
   "cell_type": "code",
   "execution_count": 19,
   "metadata": {},
   "outputs": [
    {
     "data": {
      "text/plain": [
       "<tensorflow.python.keras.engine.training.Model at 0x156a48860>"
      ]
     },
     "execution_count": 19,
     "metadata": {},
     "output_type": "execute_result"
    }
   ],
   "source": [
    "#Function API\n",
    "#单输入单输出\n",
    "input_tensor = keras.layers.Input(shape=(12,))\n",
    "hidden1 = keras.layers.Dense(30, activation=\"relu\")(input_tensor)\n",
    "hidden2 = keras.layers.Dense(30, activation=\"relu\")(hidden1)\n",
    "concat = keras.layers.Concatenate(axis=-1)([input_tensor, hidden2])\n",
    "output_tensor = keras.layers.Dense(1)(concat)\n",
    "keras.models.Model(inputs=[input_tensor],outputs=[output_tensor])"
   ]
  },
  {
   "cell_type": "markdown",
   "metadata": {},
   "source": [
    "---\n",
    "<img src=\"structure2.png\" style=\"zoom:20%\" >"
   ]
  },
  {
   "cell_type": "code",
   "execution_count": 20,
   "metadata": {},
   "outputs": [],
   "source": [
    "#多输入单输出\n",
    "input_A = keras.layers.Input(shape=[5])\n",
    "input_B = keras.layers.Input(shape=[6])\n",
    "hidden1 = keras.layers.Dense(30, activation=\"relu\")(input_B)\n",
    "hidden2 = keras.layers.Dense(30, activation=\"relu\")(hidden1)\n",
    "concat = keras.layers.Concatenate(axis=-1)([input_A, hidden2])\n",
    "output = keras.layers.Dense(1)(concat)\n",
    "model = keras.models.Model(inputs=[input_A, input_B], outputs=[output])"
   ]
  },
  {
   "cell_type": "markdown",
   "metadata": {},
   "source": [
    "---\n",
    "<img src=\"structure3.png\" style=\"zoom:40%\" >"
   ]
  },
  {
   "cell_type": "code",
   "execution_count": 21,
   "metadata": {},
   "outputs": [
    {
     "name": "stdout",
     "output_type": "stream",
     "text": [
      "WARNING:tensorflow:From /Users/wanjun/anaconda/envs/python36/lib/python3.6/site-packages/tensorflow/python/keras/utils/losses_utils.py:170: to_float (from tensorflow.python.ops.math_ops) is deprecated and will be removed in a future version.\n",
      "Instructions for updating:\n",
      "Use tf.cast instead.\n"
     ]
    }
   ],
   "source": [
    "#多输入多输出\n",
    "input_A = keras.layers.Input(shape=[5])\n",
    "input_B = keras.layers.Input(shape=[6])\n",
    "hidden1 = keras.layers.Dense(30, activation=\"relu\")(input_B)\n",
    "hidden2 = keras.layers.Dense(30, activation=\"relu\")(hidden1)\n",
    "concat = keras.layers.concatenate([input_A, hidden2])\n",
    "output = keras.layers.Dense(1)(concat)\n",
    "aux_output = keras.layers.Dense(1)(hidden2)\n",
    "model = keras.models.Model(inputs=[input_A, input_B],outputs=[output, aux_output])\n",
    "model.compile(loss=[\"mse\", \"mae\"], loss_weights=[0.9, 0.1], optimizer=\"sgd\")"
   ]
  },
  {
   "cell_type": "markdown",
   "metadata": {},
   "source": [
    "***model的训练***\n",
    "\n",
    "```python\n",
    "model.fit([X_train_A, X_train_B], [y_train, y_train], epochs=20,batch_size=64,validation_data=([X_valid_A,X_valid_B],[y_valid, y_valid]))\n",
    "```\n"
   ]
  },
  {
   "cell_type": "code",
   "execution_count": 22,
   "metadata": {},
   "outputs": [
    {
     "data": {
      "text/plain": [
       "<function tensorflow.python.keras.engine.saving.load_model(filepath, custom_objects=None, compile=True)>"
      ]
     },
     "execution_count": 22,
     "metadata": {},
     "output_type": "execute_result"
    }
   ],
   "source": [
    "## model系列API\n",
    "keras.models.save_model\n",
    "keras.models.load_model"
   ]
  },
  {
   "cell_type": "code",
   "execution_count": 23,
   "metadata": {},
   "outputs": [
    {
     "data": {
      "text/plain": [
       "<function tensorflow.python.keras.backend.sum(x, axis=None, keepdims=False)>"
      ]
     },
     "execution_count": 23,
     "metadata": {},
     "output_type": "execute_result"
    }
   ],
   "source": [
    "## backend系列API\n",
    "keras.backend.argmax\n",
    "keras.backend.sum"
   ]
  },
  {
   "cell_type": "code",
   "execution_count": 6,
   "metadata": {},
   "outputs": [],
   "source": [
    "## callback系列API\n",
    "keras.callbacks.ModelCheckpoint()\n",
    "keras.callbacks.TensorBoard()"
   ]
  },
  {
   "cell_type": "markdown",
   "metadata": {},
   "source": [
    "## 三、 纯Keras的神经网络\n",
    "\n",
    "下面将使用一个简单的纯keras来实现一个神经网络，纯keras实现神经网络方便且简单。\n",
    "\n",
    "要解决的问题fashion-mnist数据集问题:\n",
    "\n",
    "<img src=\"fashion-mnist.png\" style=\"zoom:50%\" >\n",
    "\n",
    "这是一个十分类问题。\n",
    "\n",
    "解决步骤:\n",
    "\n",
    "- 数据准备\n",
    "- 网络结构设计\n",
    "- 损失函数设计\n",
    "- 优化方法设计"
   ]
  },
  {
   "cell_type": "code",
   "execution_count": 7,
   "metadata": {},
   "outputs": [],
   "source": [
    "import warnings\n",
    "warnings.filterwarnings('ignore')\n",
    "import numpy as np\n",
    "from tensorflow.python import keras\n",
    "fashion_mnist = keras.datasets.fashion_mnist"
   ]
  },
  {
   "cell_type": "code",
   "execution_count": 5,
   "metadata": {},
   "outputs": [],
   "source": [
    "# 数据准备\n",
    "(X_train_full, y_train_full), (X_test, y_test) = fashion_mnist.load_data()\n",
    "X_train_scaler = X_train_full/255.\n",
    "X_test_scaler = X_test/255.\n",
    "X_train_scaler = X_train_scaler.reshape(-1,28*28)\n",
    "X_test_scaler = X_test_scaler.reshape(-1,28*28)\n",
    "class_names = [\"T-shirt/top\", \"Trouser\", \"Pullover\", \"Dress\", \"Coat\",\"Sandal\", \"Shirt\", \"Sneaker\", \"Bag\", \"Ankle boot\"]\n",
    "y_train = keras.utils.to_categorical(y_train_full,num_classes=10)\n",
    "y_test = keras.utils.to_categorical(y_test,num_classes=10)"
   ]
  },
  {
   "cell_type": "code",
   "execution_count": 13,
   "metadata": {
    "scrolled": true
   },
   "outputs": [
    {
     "data": {
      "text/plain": [
       "<matplotlib.image.AxesImage at 0xb56e5b128>"
      ]
     },
     "execution_count": 13,
     "metadata": {},
     "output_type": "execute_result"
    },
    {
     "data": {
      "image/png": "[encoded data removed]",
      "text/plain": [
       "<Figure size 432x288 with 1 Axes>"
      ]
     },
     "metadata": {
      "needs_background": "light"
     },
     "output_type": "display_data"
    }
   ],
   "source": [
    "from matplotlib import pyplot as plt\n",
    "%matplotlib inline\n",
    "index = 666\n",
    "plt.imshow(X_train_scaler[666].reshape(28,28),cmap='gray')"
   ]
  },
  {
   "cell_type": "code",
   "execution_count": 6,
   "metadata": {},
   "outputs": [
    {
     "name": "stdout",
     "output_type": "stream",
     "text": [
      "./keras_logs/run_2019_08_17-18_17_04\n",
      "Train on 60000 samples, validate on 10000 samples\n",
      "WARNING:tensorflow:From /Users/wanjun/anaconda/envs/python36/lib/python3.6/site-packages/tensorflow/python/ops/math_ops.py:3066: to_int32 (from tensorflow.python.ops.math_ops) is deprecated and will be removed in a future version.\n",
      "Instructions for updating:\n",
      "Use tf.cast instead.\n",
      "Epoch 1/5\n",
      "60000/60000 [==============================] - 9s 144us/sample - loss: 0.9584 - accuracy: 0.6643 - val_loss: 0.6506 - val_accuracy: 0.7607\n",
      "Epoch 2/5\n",
      "60000/60000 [==============================] - 9s 147us/sample - loss: 0.5625 - accuracy: 0.8038 - val_loss: 0.5463 - val_accuracy: 0.8077\n",
      "Epoch 3/5\n",
      "60000/60000 [==============================] - 9s 146us/sample - loss: 0.5009 - accuracy: 0.8243 - val_loss: 0.5042 - val_accuracy: 0.8240\n",
      "Epoch 4/5\n",
      "60000/60000 [==============================] - 9s 145us/sample - loss: 0.4666 - accuracy: 0.8352 - val_loss: 0.4811 - val_accuracy: 0.8324\n",
      "Epoch 5/5\n",
      "60000/60000 [==============================] - 9s 148us/sample - loss: 0.4437 - accuracy: 0.8425 - val_loss: 0.4705 - val_accuracy: 0.8300\n"
     ]
    },
    {
     "data": {
      "text/plain": [
       "<tensorflow.python.keras.callbacks.History at 0xb57a762b0>"
      ]
     },
     "execution_count": 6,
     "metadata": {},
     "output_type": "execute_result"
    }
   ],
   "source": [
    "from tensorflow.python.keras.layers import Dense,Softmax,Activation,Input\n",
    "from tensorflow.python.keras.models import Model\n",
    "from tensorflow.python.keras.callbacks import ModelCheckpoint,TensorBoard\n",
    "from tensorflow.python.keras import backend as K\n",
    "import os\n",
    "import tensorflow as tf\n",
    "\n",
    "# 网络架构设计\n",
    "input_tensor = Input(shape=(784,))\n",
    "hidden1 = Activation(activation='relu')(Dense(units=32,use_bias=True)(input_tensor))\n",
    "hidden2 = Activation(activation='relu')(Dense(units=16,use_bias=True)(hidden1))\n",
    "logits = Dense(units=10,use_bias=True)(hidden2)\n",
    "pred = Softmax()(logits)\n",
    "\n",
    "# 损失函数设计: 注意loss和metric的区别\n",
    "loss_op = keras.losses.categorical_crossentropy\n",
    "\n",
    "# 模型评估\n",
    "def accuracy(y_true,y_pred):\n",
    "    y_t = tf.argmax(y_true,axis=1)\n",
    "    y_p = tf.argmax(y_pred,axis=1)\n",
    "    return tf.reduce_mean(tf.cast(tf.equal(y_t,y_p),tf.float32))\n",
    "\n",
    "\n",
    "\n",
    "# 优化方法设计\n",
    "train_op = keras.optimizers.sgd()\n",
    "\n",
    "# 保存模型\n",
    "savemodel = ModelCheckpoint(filepath='keras_model/model_dnn.h5')\n",
    "\n",
    "# 模型组装和编译\n",
    "model = Model(inputs=[input_tensor],outputs=[pred])\n",
    "model.compile(loss=[loss_op],optimizer=train_op,metrics=[accuracy])\n",
    "\n",
    "\n",
    "# 可视化\n",
    "root_logdir = os.path.join(os.curdir, \"keras_logs\")\n",
    "def get_run_logdir(): \n",
    "    import time\n",
    "    run_id = time.strftime(\"run_%Y_%m_%d-%H_%M_%S\") \n",
    "    return os.path.join(root_logdir, run_id)\n",
    "run_logdir = get_run_logdir()\n",
    "print(run_logdir)\n",
    "tensorboard_cb = TensorBoard(run_logdir)\n",
    "\n",
    "# 模型的训练\n",
    "model.fit(X_train_scaler,y_train,epochs=5,validation_data=(X_test_scaler,y_test),callbacks=[savemodel,tensorboard_cb])"
   ]
  },
  {
   "cell_type": "code",
   "execution_count": 7,
   "metadata": {},
   "outputs": [
    {
     "name": "stdout",
     "output_type": "stream",
     "text": [
      "_________________________________________________________________\n",
      "Layer (type)                 Output Shape              Param #   \n",
      "=================================================================\n",
      "input_3 (InputLayer)         (None, 784)               0         \n",
      "_________________________________________________________________\n",
      "dense_6 (Dense)              (None, 32)                25120     \n",
      "_________________________________________________________________\n",
      "activation_4 (Activation)    (None, 32)                0         \n",
      "_________________________________________________________________\n",
      "dense_7 (Dense)              (None, 16)                528       \n",
      "_________________________________________________________________\n",
      "activation_5 (Activation)    (None, 16)                0         \n",
      "_________________________________________________________________\n",
      "dense_8 (Dense)              (None, 10)                170       \n",
      "_________________________________________________________________\n",
      "softmax_2 (Softmax)          (None, 10)                0         \n",
      "=================================================================\n",
      "Total params: 25,818\n",
      "Trainable params: 25,818\n",
      "Non-trainable params: 0\n",
      "_________________________________________________________________\n"
     ]
    }
   ],
   "source": [
    "# 查看参数数量和结构\n",
    "model.summary()"
   ]
  },
  {
   "cell_type": "code",
   "execution_count": 8,
   "metadata": {},
   "outputs": [
    {
     "data": {
      "text/plain": [
       "[<tensorflow.python.keras.engine.input_layer.InputLayer at 0xb39e3b668>,\n",
       " <tensorflow.python.keras.layers.core.Dense at 0xb39e3b860>,\n",
       " <tensorflow.python.keras.layers.core.Activation at 0xb39e3b780>,\n",
       " <tensorflow.python.keras.layers.core.Dense at 0xb39e3ba58>,\n",
       " <tensorflow.python.keras.layers.core.Activation at 0xb39e3b7b8>,\n",
       " <tensorflow.python.keras.layers.core.Dense at 0xb39e6a470>,\n",
       " <tensorflow.python.keras.layers.advanced_activations.Softmax at 0xb39e3ba90>]"
      ]
     },
     "execution_count": 8,
     "metadata": {},
     "output_type": "execute_result"
    }
   ],
   "source": [
    "# 获取layer的名字\n",
    "model.layers"
   ]
  },
  {
   "cell_type": "code",
   "execution_count": 9,
   "metadata": {},
   "outputs": [
    {
     "data": {
      "text/plain": [
       "[array([[ 0.04673344,  0.01502634, -0.07474566, ...,  0.06890095,\n",
       "         -0.04112365, -0.00896782],\n",
       "        [-0.00518269, -0.00286345,  0.08053879, ...,  0.07182655,\n",
       "         -0.01299394, -0.06554333],\n",
       "        [ 0.08002955, -0.03641549,  0.02303342, ...,  0.0393118 ,\n",
       "          0.05300613, -0.03454221],\n",
       "        ...,\n",
       "        [-0.0828051 ,  0.04777583, -0.02087372, ...,  0.07305664,\n",
       "          0.06184046,  0.04000294],\n",
       "        [ 0.01623803, -0.03462012, -0.0404018 , ...,  0.07255101,\n",
       "          0.01709375,  0.01892226],\n",
       "        [-0.07676131, -0.00633865,  0.07296253, ..., -0.00274478,\n",
       "          0.08141113, -0.00275608]], dtype=float32),\n",
       " array([-0.13452972,  0.02142563, -0.02201729,  0.1591276 , -0.11847489,\n",
       "         0.12031773, -0.01768341, -0.01737609,  0.00054321, -0.1729853 ,\n",
       "         0.04432423, -0.01464177,  0.32178038,  0.25212777,  0.19860578,\n",
       "         0.1715567 , -0.10305091, -0.16290314,  0.02499877,  0.12938379,\n",
       "         0.24135025, -0.05990688,  0.0913938 ,  0.20561   ,  0.07127212,\n",
       "         0.00596112, -0.04965558, -0.01646159,  0.07282738,  0.02870943,\n",
       "         0.11165093,  0.10920808], dtype=float32)]"
      ]
     },
     "execution_count": 9,
     "metadata": {},
     "output_type": "execute_result"
    }
   ],
   "source": [
    "# 查看参数\n",
    "model.layers[1].get_weights()"
   ]
  },
  {
   "cell_type": "code",
   "execution_count": 10,
   "metadata": {},
   "outputs": [
    {
     "name": "stdout",
     "output_type": "stream",
     "text": [
      "Dress\n"
     ]
    }
   ],
   "source": [
    "from tensorflow.python.keras.models import load_model\n",
    "model = load_model('keras_model/model_dnn.h5')\n",
    "index = 666\n",
    "img = X_test_scaler[index].reshape(1,-1)\n",
    "pred = model.predict(img)\n",
    "print(class_names[np.argmax(pred)])"
   ]
  },
  {
   "cell_type": "code",
   "execution_count": 5,
   "metadata": {},
   "outputs": [
    {
     "data": {
      "text/plain": [
       "<matplotlib.image.AxesImage at 0xb54f98b00>"
      ]
     },
     "execution_count": 5,
     "metadata": {},
     "output_type": "execute_result"
    },
    {
     "data": {
      "image/png": "[encoded data removed]",
      "text/plain": [
       "<Figure size 432x288 with 1 Axes>"
      ]
     },
     "metadata": {
      "needs_background": "light"
     },
     "output_type": "display_data"
    }
   ],
   "source": [
    "from matplotlib import pyplot as plt\n",
    "import numpy as np\n",
    "%matplotlib inline\n",
    "index = 666\n",
    "img = X_test_scaler[index]\n",
    "plt.imshow(img.reshape(28,28),cmap='gray')"
   ]
  },
  {
   "cell_type": "markdown",
   "metadata": {},
   "source": [
    "---\n",
    "## 四、Keras中的现成模型\n",
    "\n",
    "`/site-packages/keras_applications/`\n",
    "\n"
   ]
  },
  {
   "cell_type": "code",
   "execution_count": 12,
   "metadata": {},
   "outputs": [
    {
     "data": {
      "text/plain": [
       "<function tensorflow.python.keras.applications.keras_modules_injection.<locals>.wrapper(*args, **kwargs)>"
      ]
     },
     "execution_count": 12,
     "metadata": {},
     "output_type": "execute_result"
    }
   ],
   "source": [
    "tf.keras.applications.inception_v3.InceptionV3"
   ]
  },
  {
   "cell_type": "code",
   "execution_count": 8,
   "metadata": {},
   "outputs": [],
   "source": [
    "input_shape=(224,224,1)\n",
    "base_model = tf.keras.applications.inception_v3.InceptionV3(include_top=True, weights=None, input_shape=input_shape, classes=100)"
   ]
  },
  {
   "cell_type": "code",
   "execution_count": 9,
   "metadata": {},
   "outputs": [],
   "source": [
    "x=base_model.output"
   ]
  },
  {
   "cell_type": "code",
   "execution_count": 10,
   "metadata": {},
   "outputs": [
    {
     "data": {
      "text/plain": [
       "TensorShape([Dimension(None), Dimension(100)])"
      ]
     },
     "execution_count": 10,
     "metadata": {},
     "output_type": "execute_result"
    }
   ],
   "source": [
    "x.shape"
   ]
  },
  {
   "cell_type": "code",
   "execution_count": null,
   "metadata": {},
   "outputs": [],
   "source": []
  }
 ],
 "metadata": {
  "kernelspec": {
   "display_name": "Python 3",
   "language": "python",
   "name": "python3"
  },
  "language_info": {
   "codemirror_mode": {
    "name": "ipython",
    "version": 3
   },
   "file_extension": ".py",
   "mimetype": "text/x-python",
   "name": "python",
   "nbconvert_exporter": "python",
   "pygments_lexer": "ipython3",
   "version": "3.6.4"
  },
  "toc": {
   "base_numbering": 1,
   "nav_menu": {},
   "number_sections": true,
   "sideBar": true,
   "skip_h1_title": false,
   "title_cell": "Table of Contents",
   "title_sidebar": "Contents",
   "toc_cell": false,
   "toc_position": {},
   "toc_section_display": true,
   "toc_window_display": true
  },
  "varInspector": {
   "cols": {
    "lenName": 16,
    "lenType": 16,
    "lenVar": 40
   },
   "kernels_config": {
    "python": {
     "delete_cmd_postfix": "",
     "delete_cmd_prefix": "del ",
     "library": "var_list.py",
     "varRefreshCmd": "print(var_dic_list())"
    },
    "r": {
     "delete_cmd_postfix": ") ",
     "delete_cmd_prefix": "rm(",
     "library": "var_list.r",
     "varRefreshCmd": "cat(var_dic_list()) "
    }
   },
   "types_to_exclude": [
    "module",
    "function",
    "builtin_function_or_method",
    "instance",
    "_Feature"
   ],
   "window_display": false
  }
 },
 "nbformat": 4,
 "nbformat_minor": 2
}
