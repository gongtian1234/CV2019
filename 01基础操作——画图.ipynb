{
 "cells": [
  {
   "cell_type": "code",
   "execution_count": 1,
   "metadata": {},
   "outputs": [],
   "source": [
    "import numpy as np\n",
    "import cv2\n",
    "import matplotlib.pyplot as plt"
   ]
  },
  {
   "cell_type": "code",
   "execution_count": 2,
   "metadata": {},
   "outputs": [],
   "source": [
    "# 先定义一个显示图片的函数\n",
    "def show(image):\n",
    "    plt.imshow(image)\n",
    "    plt.axis('off')\n",
    "    plt.show()"
   ]
  },
  {
   "cell_type": "code",
   "execution_count": 3,
   "metadata": {},
   "outputs": [
    {
     "data": {
      "image/png": "[encoded data removed]",
      "text/plain": [
       "<Figure size 432x288 with 1 Axes>"
      ]
     },
     "metadata": {
      "needs_background": "light"
     },
     "output_type": "display_data"
    }
   ],
   "source": [
    "image = np.zeros((300,300,3), dtype='uint8')\n",
    "show(image)"
   ]
  },
  {
   "cell_type": "markdown",
   "metadata": {},
   "source": [
    "### 1、画直线"
   ]
  },
  {
   "cell_type": "code",
   "execution_count": 4,
   "metadata": {},
   "outputs": [
    {
     "data": {
      "image/png": "[encoded data removed]",
      "text/plain": [
       "<Figure size 432x288 with 1 Axes>"
      ]
     },
     "metadata": {
      "needs_background": "light"
     },
     "output_type": "display_data"
    }
   ],
   "source": [
    "green = (0,255,0)\n",
    "cv2.line(image, (0,0), (300,300), green, 1)\n",
    "show(image)"
   ]
  },
  {
   "cell_type": "code",
   "execution_count": 5,
   "metadata": {},
   "outputs": [
    {
     "data": {
      "image/png": "[encoded data removed]",
      "text/plain": [
       "<Figure size 432x288 with 1 Axes>"
      ]
     },
     "metadata": {
      "needs_background": "light"
     },
     "output_type": "display_data"
    }
   ],
   "source": [
    "blue = (0,0,255)\n",
    "cv2.line(image, (300,0), (150,150), blue, 2)\n",
    "show(image)"
   ]
  },
  {
   "cell_type": "markdown",
   "metadata": {},
   "source": [
    "### 2、画矩形"
   ]
  },
  {
   "cell_type": "code",
   "execution_count": 6,
   "metadata": {},
   "outputs": [
    {
     "data": {
      "image/png": "[encoded data removed]",
      "text/plain": [
       "<Figure size 432x288 with 1 Axes>"
      ]
     },
     "metadata": {
      "needs_background": "light"
     },
     "output_type": "display_data"
    }
   ],
   "source": [
    "cv2.rectangle(image, (75,75), (225,225), (255,0,0),3)    # \n",
    "show(image)"
   ]
  },
  {
   "cell_type": "markdown",
   "metadata": {},
   "source": [
    "### 3、画圆形"
   ]
  },
  {
   "cell_type": "code",
   "execution_count": 7,
   "metadata": {},
   "outputs": [
    {
     "data": {
      "image/png": "[encoded data removed]",
      "text/plain": [
       "<Figure size 432x288 with 1 Axes>"
      ]
     },
     "metadata": {
      "needs_background": "light"
     },
     "output_type": "display_data"
    }
   ],
   "source": [
    "cv2.circle(image, (150,150), 106, (155,200,50),3)\n",
    "show(image)"
   ]
  },
  {
   "cell_type": "markdown",
   "metadata": {},
   "source": [
    "##### 画一个不断叠加的圆"
   ]
  },
  {
   "cell_type": "code",
   "execution_count": 8,
   "metadata": {},
   "outputs": [
    {
     "data": {
      "image/png": "[encoded data removed]",
      "text/plain": [
       "<Figure size 432x288 with 1 Axes>"
      ]
     },
     "metadata": {
      "needs_background": "light"
     },
     "output_type": "display_data"
    }
   ],
   "source": [
    "image2 = np.zeros((300,300,3), dtype='uint8')\n",
    "(cx, cy) = image.shape[0]//2, image.shape[1]//2\n",
    "for i in range(10):\n",
    "    cv2.circle(image2, (cx, cy), 15*(i+1), (201,103,230),2)\n",
    "show(image2)"
   ]
  },
  {
   "cell_type": "markdown",
   "metadata": {},
   "source": [
    "##### 画一些圆心、半径都是随机的圆"
   ]
  },
  {
   "cell_type": "code",
   "execution_count": 9,
   "metadata": {},
   "outputs": [
    {
     "data": {
      "image/png": "[encoded data removed]",
      "text/plain": [
       "<Figure size 432x288 with 1 Axes>"
      ]
     },
     "metadata": {
      "needs_background": "light"
     },
     "output_type": "display_data"
    }
   ],
   "source": [
    "image3 = np.zeros((300,300,3), dtype='uint8')\n",
    "for i in range(10):\n",
    "    radius = np.random.randint(5,200)    # 半径取随机值\n",
    "    pt = np.random.randint(0,300,size=(2,))    # 圆心取随机值\n",
    "    color = np.random.randint(0,255,size=(3,)).tolist()    # 颜色取随机值\n",
    "#     cv2.circle(image3, (150,150), 15, color, -1)\n",
    "    cv2.circle(image3, tuple(pt), radius, color, -1)\n",
    "show(image3)"
   ]
  },
  {
   "cell_type": "code",
   "execution_count": null,
   "metadata": {},
   "outputs": [],
   "source": []
  },
  {
   "cell_type": "code",
   "execution_count": null,
   "metadata": {},
   "outputs": [],
   "source": []
  },
  {
   "cell_type": "code",
   "execution_count": 10,
   "metadata": {},
   "outputs": [
    {
     "data": {
      "image/png": "[encoded data removed]",
      "text/plain": [
       "<Figure size 432x288 with 1 Axes>"
      ]
     },
     "metadata": {
      "needs_background": "light"
     },
     "output_type": "display_data"
    },
    {
     "data": {
      "image/png": "[encoded data removed]",
      "text/plain": [
       "<Figure size 432x288 with 1 Axes>"
      ]
     },
     "metadata": {
      "needs_background": "light"
     },
     "output_type": "display_data"
    }
   ],
   "source": [
    "import numpy as np\n",
    "import cv2\n",
    "import matplotlib.pyplot as plt\n",
    "\n",
    "def show(image):\n",
    "    '''用来显示图片'''\n",
    "    plt.imshow(image)\n",
    "    plt.axis('off')\n",
    "    plt.show()\n",
    "\n",
    "def value(a,b,lst=[]):\n",
    "    '''用递归的方式计算得到线段的中点'''\n",
    "    c = (a+b)/2\n",
    "    lst.append(c)\n",
    "    if a+100<c:    # 设置递归停止的条件，否则会一直进行下去\n",
    "        value(a,c,lst)\n",
    "    if b>c+100:\n",
    "        value(c,b,lst)\n",
    "    return lst\n",
    "\n",
    "image = np.zeros((500,500,3), dtype='uint8')    # 创建一张黑色的图片\n",
    "show(image)\n",
    "lst = value(0,image.shape[1])    # 此时lst是乱序的而且有重复值\n",
    "lst = sorted(list(set(lst)))\n",
    "lst.append(image.shape[1])\n",
    "\n",
    "# 1、先画出从左往右向上的斜线\n",
    "for i in lst:\n",
    "    cv2.line(image, (0,int(i)), (int(i),0), (255,255,255),3)\n",
    "    cv2.line(image, (int(i),image.shape[1]), (image.shape[0],int(i)), (255,255,255),3)\n",
    "\n",
    "# 2、再画出从左往右向下的斜线\n",
    "for i in lst:\n",
    "    cv2.line(image, (int(i),0), (image.shape[0],image.shape[0]-int(i)), (255,255,255),3)\n",
    "    cv2.line(image, (0,int(i)), (image.shape[0]-int(i),image.shape[1]), (255,255,255),3)\n",
    "cv2.line(image, (0,0), (image.shape[1],image.shape[1]), (255,255,255),3)\n",
    "\n",
    "# 3、连接横着的线条\n",
    "for i in lst:\n",
    "    cv2.line(image, (0,int(i)), (image.shape[0],int(i)), (255,255,255), 3)\n",
    "\n",
    "# 4、连接竖着的线\n",
    "for i in lst:\n",
    "    cv2.line(image, (int(i),0), (int(i),image.shape[1]), (255,255,255),3)\n",
    "show(image)"
   ]
  },
  {
   "cell_type": "code",
   "execution_count": null,
   "metadata": {},
   "outputs": [],
   "source": []
  }
 ],
 "metadata": {
  "kernelspec": {
   "display_name": "Python 3",
   "language": "python",
   "name": "python3"
  },
  "language_info": {
   "codemirror_mode": {
    "name": "ipython",
    "version": 3
   },
   "file_extension": ".py",
   "mimetype": "text/x-python",
   "name": "python",
   "nbconvert_exporter": "python",
   "pygments_lexer": "ipython3",
   "version": "3.6.4"
  }
 },
 "nbformat": 4,
 "nbformat_minor": 2
}
